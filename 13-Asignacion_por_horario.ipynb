{
 "cells": [
  {
   "cell_type": "markdown",
   "metadata": {},
   "source": [
    "# Asignación de velocidades a la red segun horario\n",
    "\n",
    "En este codigo se asignaran las velocidades a la red segun el horario pico o valle\n",
    "\n",
    "## Necesarios\n",
    "* Red de infraestructura original modificada\n",
    "* Librerias instaladas en especial Geopandas\n",
    "* Velocidades calibradas"
   ]
  },
  {
   "cell_type": "code",
   "execution_count": 6,
   "metadata": {},
   "outputs": [],
   "source": [
    "#importar librerias\n",
    "import geopandas as gpd\n",
    "import pandas as pd\n",
    "import numpy as np\n",
    "import math\n",
    "import matplotlib.pyplot as plt"
   ]
  },
  {
   "cell_type": "code",
   "execution_count": 7,
   "metadata": {},
   "outputs": [],
   "source": [
    "# Importar otra libreria para hacer los buffer\n",
    "from shapely import speedups\n",
    "speedups.disable()"
   ]
  },
  {
   "cell_type": "markdown",
   "metadata": {},
   "source": [
    "## Carro"
   ]
  },
  {
   "cell_type": "code",
   "execution_count": 8,
   "metadata": {},
   "outputs": [],
   "source": [
    "#Se carga la red a trabajar\n",
    "red_actual_veh = gpd.read_file(\"G:/Mi unidad/Docencia/Maestria UNAL/Trabajo de grado/Tesis 2.0/Tesis/Red_inf_vial/Red_Base_Modo/Red_Inf_AS.shp\")\n",
    "\n",
    "red_actual_veh = red_actual_veh.drop(['ID_JER', 'VEL_FUN_PR', 'ONEWAY', 'x1', 'y1', 'x2', \n",
    "                                      'y2', 'xm', 'ym', 'z1', 'z2'], axis=1)"
   ]
  },
  {
   "cell_type": "code",
   "execution_count": 9,
   "metadata": {},
   "outputs": [],
   "source": [
    "#Se corrijen los nombres de la jerarquia para no afectar los calculos\n",
    "for i in range(0, len(red_actual_veh)):\n",
    "    if  (red_actual_veh.loc[i,'JER_PMMEP'] == \"Arterial Primaria\"):\n",
    "        red_actual_veh.loc[i,'JER_PMMEP']=\"Malla víal arterial primaria\"\n",
    "    elif (red_actual_veh.loc[i,'JER_PMMEP'] == \"Malla vía arterial primaria\"):\n",
    "        red_actual_veh.loc[i,'JER_PMMEP']=\"Malla víal arterial primaria\"\n",
    "    elif (red_actual_veh.loc[i,'JER_PMMEP'] == \"Arterial secundaria\"):\n",
    "        red_actual_veh.loc[i,'JER_PMMEP']=\"Malla víal arterial secundari\"\n",
    "    elif (red_actual_veh.loc[i,'JER_PMMEP'] == \"Malla vía arterial secundari\"):\n",
    "        red_actual_veh.loc[i,'JER_PMMEP']=\"Malla víal arterial secundari\"\n",
    "    elif (red_actual_veh.loc[i,'JER_PMMEP'] == \"Local primaria\"):\n",
    "        red_actual_veh.loc[i,'JER_PMMEP']=\"Malla víal local\""
   ]
  },
  {
   "cell_type": "code",
   "execution_count": 302,
   "metadata": {},
   "outputs": [
    {
     "data": {
      "text/plain": [
       "(974740.0, 992760.0)"
      ]
     },
     "execution_count": 302,
     "metadata": {},
     "output_type": "execute_result"
    },
    {
     "data": {
      "image/png": "[encoded data removed]",
      "text/plain": [
       "<Figure size 432x288 with 1 Axes>"
      ]
     },
     "metadata": {
      "needs_background": "light"
     },
     "output_type": "display_data"
    }
   ],
   "source": [
    "#Se cargan las velocidades a trabajar\n",
    "#velocidades = gpd.read_file(\"G:/Mi unidad/Docencia/Maestria UNAL/Trabajo de grado/Tesis 2.0/Tesis/PuntosVelocidades/p_vel_orig_ang/Carro.shp\")\n",
    "#velocidades = gpd.read_file(\"G:/Mi unidad/Docencia/Maestria UNAL/Trabajo de grado/Tesis 2.0/Tesis/VelocidadesPMMEP/picovalle/carro_pv1.shp\")\n",
    "#velocidades = gpd.read_file(\"G:/Mi unidad/Docencia/Maestria UNAL/Trabajo de grado/Tesis 2.0/Tesis/VelocidadesPMMEP/picovalle/moto_pv1.shp\")\n",
    "#velocidades = gpd.read_file(\"G:/Mi unidad/Docencia/Maestria UNAL/Trabajo de grado/Tesis 2.0/Tesis/VelocidadesPMMEP/picovalle/pico2.shp\")\n",
    "#velocidades = gpd.read_file(\"G:/Mi unidad/Docencia/Maestria UNAL/Trabajo de grado/Tesis 2.0/Tesis/VelocidadesPMMEP/franjas/Carro.shp\")\n",
    "#velocidades = gpd.read_file(\"G:/Mi unidad/Docencia/Maestria UNAL/Trabajo de grado/Tesis 2.0/Tesis/VelocidadesPMMEP/comparacion/TPC/Pico1.shp\")\n",
    "#velocidades = gpd.read_file(\"G:/Mi unidad/Docencia/Maestria UNAL/Trabajo de grado/Tesis 2.0/Tesis/VelocidadesPMMEP/comparacion/Bici/Pico1.shp\")\n",
    "#velocidades = gpd.read_file(\"G:/Mi unidad/Docencia/Maestria UNAL/Trabajo de grado/Tesis 2.0/Tesis/VelocidadesPMMEP/franjas/Bici2.shp\")\n",
    "#velocidades = gpd.read_file(\"C:/Users/user/Desktop/Tesis/VelocidadesPMMEP/shapes_fin/Bici.shp\")\n",
    "#velocidades = gpd.read_file(\"G:/Mi unidad/Docencia/Maestria UNAL/Trabajo de grado/Tesis 2.0/Tesis/VelocidadesPMMEP/comparacion/Bici/Valle3.shp\")\n",
    "#velocidades = gpd.read_file(\"G:/Mi unidad/Docencia/Maestria UNAL/Trabajo de grado/Tesis 2.0/Tesis/VelocidadesPMMEP/franjas/Bici.shp\")\n",
    "#velocidades = gpd.read_file(\"G:/Mi unidad/Docencia/Maestria UNAL/Trabajo de grado/Tesis 2.0/Tesis/VelocidadesPMMEP/comparacion/Carro/Pico1.shp\")\n",
    "#velocidades = gpd.read_file(\"G:/Mi unidad/Docencia/Maestria UNAL/Trabajo de grado/Tesis 2.0/Tesis/VelocidadesPMMEP/comparacion/Carro/Valle2.shp\")\n",
    "#velocidades = gpd.read_file(\"G:/Mi unidad/Docencia/Maestria UNAL/Trabajo de grado/Tesis 2.0/Tesis/VelocidadesPMMEP/comparacion/Moto/Pico1.shp\")\n",
    "#velocidades = gpd.read_file(\"G:/Mi unidad/Docencia/Maestria UNAL/Trabajo de grado/Tesis 2.0/Tesis/VelocidadesPMMEP/comparacion/Moto/Valle2.shp\")\n",
    "velocidades = gpd.read_file(\"G:/Mi unidad/Docencia/Maestria UNAL/Trabajo de grado/Tesis 2.0/Tesis/VelocidadesPMMEP/comparacion/TPC/Valle2.shp\")\n",
    "#velocidades = gpd.read_file(\"G:/Mi unidad/Docencia/Maestria UNAL/Trabajo de grado/Tesis 2.0/Tesis/VelocidadesPMMEP/comparacion/Carro/Valle3.shp\")\n",
    "#velocidades = gpd.read_file(\"G:/Mi unidad/Docencia/Maestria UNAL/Trabajo de grado/Tesis 2.0/Tesis/VelocidadesPMMEP/comparacion/Carro/Valle4.shp\")\n",
    "velocidades.plot()\n",
    "plt.xlabel('Este')\n",
    "plt.ylabel('Norte')\n",
    "plt.title('Trazas GPX Bici')\n",
    "# Set axes\n",
    "\n",
    "plt.xlim(862000, 885600)\n",
    "plt.ylim(974740, 992760)"
   ]
  },
  {
   "cell_type": "code",
   "execution_count": 303,
   "metadata": {},
   "outputs": [],
   "source": [
    "#Se cambia la zona a magna sirgas bogota\n",
    "red_actual_veh.to_crs(\"EPSG:3116\", inplace = True)\n",
    "velocidades.to_crs(\"EPSG:3116\", inplace = True)"
   ]
  },
  {
   "cell_type": "code",
   "execution_count": 304,
   "metadata": {},
   "outputs": [
    {
     "data": {
      "text/html": [
       "<div>\n",
       "<style scoped>\n",
       "    .dataframe tbody tr th:only-of-type {\n",
       "        vertical-align: middle;\n",
       "    }\n",
       "\n",
       "    .dataframe tbody tr th {\n",
       "        vertical-align: top;\n",
       "    }\n",
       "\n",
       "    .dataframe thead th {\n",
       "        text-align: right;\n",
       "    }\n",
       "</style>\n",
       "<table border=\"1\" class=\"dataframe\">\n",
       "  <thead>\n",
       "    <tr style=\"text-align: right;\">\n",
       "      <th></th>\n",
       "      <th>file</th>\n",
       "      <th>ID</th>\n",
       "      <th>altura</th>\n",
       "      <th>velocity_m</th>\n",
       "      <th>velocity_k</th>\n",
       "      <th>timestamp</th>\n",
       "      <th>latitud</th>\n",
       "      <th>longitud</th>\n",
       "      <th>tiempo</th>\n",
       "      <th>angulo_vel</th>\n",
       "      <th>sec</th>\n",
       "      <th>min</th>\n",
       "      <th>hr</th>\n",
       "      <th>pico_valle</th>\n",
       "      <th>geometry</th>\n",
       "    </tr>\n",
       "  </thead>\n",
       "  <tbody>\n",
       "    <tr>\n",
       "      <th>0</th>\n",
       "      <td>15 2015-10-02_09-00_vie - Julieth.gpx</td>\n",
       "      <td>1499</td>\n",
       "      <td>1224.0</td>\n",
       "      <td>5.840414</td>\n",
       "      <td>21.025491</td>\n",
       "      <td>2015-10-02 12:45:03</td>\n",
       "      <td>4.439713</td>\n",
       "      <td>-75.218490</td>\n",
       "      <td>12:45:03</td>\n",
       "      <td>122.671018</td>\n",
       "      <td>45903</td>\n",
       "      <td>765.050000</td>\n",
       "      <td>12.750833</td>\n",
       "      <td>valle2</td>\n",
       "      <td>POINT (873348.638 982796.314)</td>\n",
       "    </tr>\n",
       "    <tr>\n",
       "      <th>1</th>\n",
       "      <td>15 2015-10-02_09-00_vie - Julieth.gpx</td>\n",
       "      <td>1500</td>\n",
       "      <td>1225.0</td>\n",
       "      <td>6.654457</td>\n",
       "      <td>23.956045</td>\n",
       "      <td>2015-10-02 12:45:05</td>\n",
       "      <td>4.439625</td>\n",
       "      <td>-75.218407</td>\n",
       "      <td>12:45:05</td>\n",
       "      <td>128.387850</td>\n",
       "      <td>45905</td>\n",
       "      <td>765.083333</td>\n",
       "      <td>12.751389</td>\n",
       "      <td>valle2</td>\n",
       "      <td>POINT (873361.319 982788.182)</td>\n",
       "    </tr>\n",
       "  </tbody>\n",
       "</table>\n",
       "</div>"
      ],
      "text/plain": [
       "                                    file    ID  altura  velocity_m  \\\n",
       "0  15 2015-10-02_09-00_vie - Julieth.gpx  1499  1224.0    5.840414   \n",
       "1  15 2015-10-02_09-00_vie - Julieth.gpx  1500  1225.0    6.654457   \n",
       "\n",
       "   velocity_k            timestamp   latitud   longitud    tiempo  angulo_vel  \\\n",
       "0   21.025491  2015-10-02 12:45:03  4.439713 -75.218490  12:45:03  122.671018   \n",
       "1   23.956045  2015-10-02 12:45:05  4.439625 -75.218407  12:45:05  128.387850   \n",
       "\n",
       "     sec         min         hr pico_valle                       geometry  \n",
       "0  45903  765.050000  12.750833     valle2  POINT (873348.638 982796.314)  \n",
       "1  45905  765.083333  12.751389     valle2  POINT (873361.319 982788.182)  "
      ]
     },
     "execution_count": 304,
     "metadata": {},
     "output_type": "execute_result"
    }
   ],
   "source": [
    "#se revisan las columnas de velocidades\n",
    "velocidades.head(2)"
   ]
  },
  {
   "cell_type": "code",
   "execution_count": 305,
   "metadata": {},
   "outputs": [],
   "source": [
    "#Se eliminan las columnas que puedan tener datos NaN\n",
    "#velocidades = velocidades.drop(['A0', 'slope'], axis=1)"
   ]
  },
  {
   "cell_type": "code",
   "execution_count": 306,
   "metadata": {},
   "outputs": [
    {
     "data": {
      "text/plain": [
       "Index(['DIR', 'NOMENCLATU', 'CATEGORIA', 'NOMEN', 'JER_POT', 'JER_PMMEP',\n",
       "       'Long_KM', 'Shape_Leng', 'angulo1', 'angulo2', 'slope', 'geometry',\n",
       "       'FID', 'velocity_k_x', 'velocity_k_y', 'velocity_k_x', 'velocity_k_y',\n",
       "       'velocity_k_x', 'velocity_k_y', 'velocity_k_x', 'velocity_k_y'],\n",
       "      dtype='object')"
      ]
     },
     "execution_count": 306,
     "metadata": {},
     "output_type": "execute_result"
    }
   ],
   "source": [
    "#se revisan las columnas de la red\n",
    "red_actual_veh.columns"
   ]
  },
  {
   "cell_type": "code",
   "execution_count": 307,
   "metadata": {},
   "outputs": [],
   "source": [
    "#Se crea una columna con el FID para poder concatenar\n",
    "red_actual_veh[\"FID\"] = range(0, len(red_actual_veh))"
   ]
  },
  {
   "cell_type": "code",
   "execution_count": 308,
   "metadata": {},
   "outputs": [],
   "source": [
    "#Se crea un buffer de la red de 15 metros este se puede modificar el ancho a antojo\n",
    "buffer = red_actual_veh.buffer(15)"
   ]
  },
  {
   "cell_type": "code",
   "execution_count": 309,
   "metadata": {},
   "outputs": [],
   "source": [
    "#se toma solo la columna de geometria\n",
    "buffer = gpd.GeoDataFrame(red_actual_veh.drop(\"geometry\", axis = 1), geometry = buffer)"
   ]
  },
  {
   "cell_type": "code",
   "execution_count": 310,
   "metadata": {},
   "outputs": [
    {
     "data": {
      "text/plain": [
       "<AxesSubplot:>"
      ]
     },
     "execution_count": 310,
     "metadata": {},
     "output_type": "execute_result"
    },
    {
     "data": {
      "image/png": "[encoded data removed]",
      "text/plain": [
       "<Figure size 432x288 with 1 Axes>"
      ]
     },
     "metadata": {
      "needs_background": "light"
     },
     "output_type": "display_data"
    }
   ],
   "source": [
    "#Se visualiza el plot\n",
    "buffer.plot()"
   ]
  },
  {
   "cell_type": "code",
   "execution_count": 311,
   "metadata": {},
   "outputs": [],
   "source": [
    "#Se crea una tabla unicamente con la información necesaria\n",
    "buffer_int = buffer[[\"JER_PMMEP\", \"angulo1\", \n",
    "                     \"angulo2\",\"slope\", \"geometry\", \"FID\"]]"
   ]
  },
  {
   "cell_type": "code",
   "execution_count": 312,
   "metadata": {},
   "outputs": [
    {
     "data": {
      "text/html": [
       "<div>\n",
       "<style scoped>\n",
       "    .dataframe tbody tr th:only-of-type {\n",
       "        vertical-align: middle;\n",
       "    }\n",
       "\n",
       "    .dataframe tbody tr th {\n",
       "        vertical-align: top;\n",
       "    }\n",
       "\n",
       "    .dataframe thead th {\n",
       "        text-align: right;\n",
       "    }\n",
       "</style>\n",
       "<table border=\"1\" class=\"dataframe\">\n",
       "  <thead>\n",
       "    <tr style=\"text-align: right;\">\n",
       "      <th></th>\n",
       "      <th>JER_PMMEP</th>\n",
       "      <th>angulo1</th>\n",
       "      <th>angulo2</th>\n",
       "      <th>slope</th>\n",
       "      <th>geometry</th>\n",
       "      <th>FID</th>\n",
       "    </tr>\n",
       "  </thead>\n",
       "  <tbody>\n",
       "    <tr>\n",
       "      <th>0</th>\n",
       "      <td>Malla vía local</td>\n",
       "      <td>36.123963</td>\n",
       "      <td>36.445994</td>\n",
       "      <td>1.828875</td>\n",
       "      <td>POLYGON ((871463.827 982528.684, 871463.927 98...</td>\n",
       "      <td>0</td>\n",
       "    </tr>\n",
       "    <tr>\n",
       "      <th>1</th>\n",
       "      <td>Malla víal arterial primaria</td>\n",
       "      <td>199.524533</td>\n",
       "      <td>216.501489</td>\n",
       "      <td>-4.077699</td>\n",
       "      <td>POLYGON ((871518.385 982628.996, 871516.721 98...</td>\n",
       "      <td>1</td>\n",
       "    </tr>\n",
       "    <tr>\n",
       "      <th>2</th>\n",
       "      <td>Colectoras</td>\n",
       "      <td>302.580455</td>\n",
       "      <td>303.041108</td>\n",
       "      <td>4.033832</td>\n",
       "      <td>POLYGON ((871516.434 982792.779, 871445.125 98...</td>\n",
       "      <td>2</td>\n",
       "    </tr>\n",
       "    <tr>\n",
       "      <th>3</th>\n",
       "      <td>Malla víal arterial secundari</td>\n",
       "      <td>114.747128</td>\n",
       "      <td>114.807639</td>\n",
       "      <td>-5.290759</td>\n",
       "      <td>POLYGON ((871442.258 983055.914, 871442.361 98...</td>\n",
       "      <td>3</td>\n",
       "    </tr>\n",
       "    <tr>\n",
       "      <th>4</th>\n",
       "      <td>Malla víal arterial primaria</td>\n",
       "      <td>117.520102</td>\n",
       "      <td>118.003455</td>\n",
       "      <td>-2.102832</td>\n",
       "      <td>POLYGON ((871438.628 983207.228, 871438.810 98...</td>\n",
       "      <td>4</td>\n",
       "    </tr>\n",
       "  </tbody>\n",
       "</table>\n",
       "</div>"
      ],
      "text/plain": [
       "                       JER_PMMEP     angulo1     angulo2     slope  \\\n",
       "0                Malla vía local   36.123963   36.445994  1.828875   \n",
       "1   Malla víal arterial primaria  199.524533  216.501489 -4.077699   \n",
       "2                     Colectoras  302.580455  303.041108  4.033832   \n",
       "3  Malla víal arterial secundari  114.747128  114.807639 -5.290759   \n",
       "4   Malla víal arterial primaria  117.520102  118.003455 -2.102832   \n",
       "\n",
       "                                            geometry  FID  \n",
       "0  POLYGON ((871463.827 982528.684, 871463.927 98...    0  \n",
       "1  POLYGON ((871518.385 982628.996, 871516.721 98...    1  \n",
       "2  POLYGON ((871516.434 982792.779, 871445.125 98...    2  \n",
       "3  POLYGON ((871442.258 983055.914, 871442.361 98...    3  \n",
       "4  POLYGON ((871438.628 983207.228, 871438.810 98...    4  "
      ]
     },
     "execution_count": 312,
     "metadata": {},
     "output_type": "execute_result"
    }
   ],
   "source": [
    "#Se visualiza la tabla\n",
    "buffer_int.head()"
   ]
  },
  {
   "cell_type": "code",
   "execution_count": 313,
   "metadata": {},
   "outputs": [],
   "source": [
    "#Si las velocidades son de strava se revisa el ID si no es así no es necesario\n",
    "#velocidades[\"ID_Strava\"] = velocidades.ID"
   ]
  },
  {
   "cell_type": "code",
   "execution_count": 314,
   "metadata": {},
   "outputs": [],
   "source": [
    "#se realiza una intersección con los datos que esten tocando el buffer\n",
    "spatial_join = gpd.sjoin(buffer_int, velocidades, how = \"left\", op = \"intersects\")\n",
    "#spatial_join = gpd.sjoin(velocidades, buffer_int, how = \"right\", op = \"intersects\")"
   ]
  },
  {
   "cell_type": "code",
   "execution_count": 315,
   "metadata": {},
   "outputs": [
    {
     "data": {
      "text/html": [
       "<div>\n",
       "<style scoped>\n",
       "    .dataframe tbody tr th:only-of-type {\n",
       "        vertical-align: middle;\n",
       "    }\n",
       "\n",
       "    .dataframe tbody tr th {\n",
       "        vertical-align: top;\n",
       "    }\n",
       "\n",
       "    .dataframe thead th {\n",
       "        text-align: right;\n",
       "    }\n",
       "</style>\n",
       "<table border=\"1\" class=\"dataframe\">\n",
       "  <thead>\n",
       "    <tr style=\"text-align: right;\">\n",
       "      <th></th>\n",
       "      <th>JER_PMMEP</th>\n",
       "      <th>angulo1</th>\n",
       "      <th>angulo2</th>\n",
       "      <th>slope</th>\n",
       "      <th>geometry</th>\n",
       "      <th>FID</th>\n",
       "      <th>index_right</th>\n",
       "      <th>file</th>\n",
       "      <th>ID</th>\n",
       "      <th>altura</th>\n",
       "      <th>...</th>\n",
       "      <th>velocity_k</th>\n",
       "      <th>timestamp</th>\n",
       "      <th>latitud</th>\n",
       "      <th>longitud</th>\n",
       "      <th>tiempo</th>\n",
       "      <th>angulo_vel</th>\n",
       "      <th>sec</th>\n",
       "      <th>min</th>\n",
       "      <th>hr</th>\n",
       "      <th>pico_valle</th>\n",
       "    </tr>\n",
       "  </thead>\n",
       "  <tbody>\n",
       "    <tr>\n",
       "      <th>0</th>\n",
       "      <td>Malla vía local</td>\n",
       "      <td>36.123963</td>\n",
       "      <td>36.445994</td>\n",
       "      <td>1.828875</td>\n",
       "      <td>POLYGON ((871463.827 982528.684, 871463.927 98...</td>\n",
       "      <td>0</td>\n",
       "      <td>NaN</td>\n",
       "      <td>NaN</td>\n",
       "      <td>NaN</td>\n",
       "      <td>NaN</td>\n",
       "      <td>...</td>\n",
       "      <td>NaN</td>\n",
       "      <td>NaN</td>\n",
       "      <td>NaN</td>\n",
       "      <td>NaN</td>\n",
       "      <td>NaN</td>\n",
       "      <td>NaN</td>\n",
       "      <td>NaN</td>\n",
       "      <td>NaN</td>\n",
       "      <td>NaN</td>\n",
       "      <td>NaN</td>\n",
       "    </tr>\n",
       "    <tr>\n",
       "      <th>1</th>\n",
       "      <td>Malla víal arterial primaria</td>\n",
       "      <td>199.524533</td>\n",
       "      <td>216.501489</td>\n",
       "      <td>-4.077699</td>\n",
       "      <td>POLYGON ((871518.385 982628.996, 871516.721 98...</td>\n",
       "      <td>1</td>\n",
       "      <td>5292.0</td>\n",
       "      <td>20 2015-08-28_07-32_vie - Julieth.gpx</td>\n",
       "      <td>13979.0</td>\n",
       "      <td>1256.00</td>\n",
       "      <td>...</td>\n",
       "      <td>2.806701</td>\n",
       "      <td>2015-08-28 13:04:00</td>\n",
       "      <td>4.437793</td>\n",
       "      <td>-75.235493</td>\n",
       "      <td>13:04:00</td>\n",
       "      <td>209.233676</td>\n",
       "      <td>47040.0</td>\n",
       "      <td>784.000000</td>\n",
       "      <td>13.066667</td>\n",
       "      <td>valle2</td>\n",
       "    </tr>\n",
       "    <tr>\n",
       "      <th>1</th>\n",
       "      <td>Malla víal arterial primaria</td>\n",
       "      <td>199.524533</td>\n",
       "      <td>216.501489</td>\n",
       "      <td>-4.077699</td>\n",
       "      <td>POLYGON ((871518.385 982628.996, 871516.721 98...</td>\n",
       "      <td>1</td>\n",
       "      <td>5290.0</td>\n",
       "      <td>20 2015-08-28_07-32_vie - Julieth.gpx</td>\n",
       "      <td>13974.0</td>\n",
       "      <td>1258.00</td>\n",
       "      <td>...</td>\n",
       "      <td>1.197189</td>\n",
       "      <td>2015-08-28 13:03:52</td>\n",
       "      <td>4.437799</td>\n",
       "      <td>-75.235494</td>\n",
       "      <td>13:03:52</td>\n",
       "      <td>42.591893</td>\n",
       "      <td>47032.0</td>\n",
       "      <td>783.866667</td>\n",
       "      <td>13.064444</td>\n",
       "      <td>valle2</td>\n",
       "    </tr>\n",
       "    <tr>\n",
       "      <th>1</th>\n",
       "      <td>Malla víal arterial primaria</td>\n",
       "      <td>199.524533</td>\n",
       "      <td>216.501489</td>\n",
       "      <td>-4.077699</td>\n",
       "      <td>POLYGON ((871518.385 982628.996, 871516.721 98...</td>\n",
       "      <td>1</td>\n",
       "      <td>5291.0</td>\n",
       "      <td>20 2015-08-28_07-32_vie - Julieth.gpx</td>\n",
       "      <td>13975.0</td>\n",
       "      <td>1257.00</td>\n",
       "      <td>...</td>\n",
       "      <td>1.749954</td>\n",
       "      <td>2015-08-28 13:03:54</td>\n",
       "      <td>4.437806</td>\n",
       "      <td>-75.235489</td>\n",
       "      <td>13:03:54</td>\n",
       "      <td>40.164214</td>\n",
       "      <td>47034.0</td>\n",
       "      <td>783.900000</td>\n",
       "      <td>13.065000</td>\n",
       "      <td>valle2</td>\n",
       "    </tr>\n",
       "    <tr>\n",
       "      <th>1</th>\n",
       "      <td>Malla víal arterial primaria</td>\n",
       "      <td>199.524533</td>\n",
       "      <td>216.501489</td>\n",
       "      <td>-4.077699</td>\n",
       "      <td>POLYGON ((871518.385 982628.996, 871516.721 98...</td>\n",
       "      <td>1</td>\n",
       "      <td>5289.0</td>\n",
       "      <td>20 2015-08-28_07-32_vie - Julieth.gpx</td>\n",
       "      <td>13973.0</td>\n",
       "      <td>1257.00</td>\n",
       "      <td>...</td>\n",
       "      <td>5.302995</td>\n",
       "      <td>2015-08-28 13:03:51</td>\n",
       "      <td>4.437802</td>\n",
       "      <td>-75.235494</td>\n",
       "      <td>13:03:51</td>\n",
       "      <td>217.425912</td>\n",
       "      <td>47031.0</td>\n",
       "      <td>783.850000</td>\n",
       "      <td>13.064167</td>\n",
       "      <td>valle2</td>\n",
       "    </tr>\n",
       "    <tr>\n",
       "      <th>...</th>\n",
       "      <td>...</td>\n",
       "      <td>...</td>\n",
       "      <td>...</td>\n",
       "      <td>...</td>\n",
       "      <td>...</td>\n",
       "      <td>...</td>\n",
       "      <td>...</td>\n",
       "      <td>...</td>\n",
       "      <td>...</td>\n",
       "      <td>...</td>\n",
       "      <td>...</td>\n",
       "      <td>...</td>\n",
       "      <td>...</td>\n",
       "      <td>...</td>\n",
       "      <td>...</td>\n",
       "      <td>...</td>\n",
       "      <td>...</td>\n",
       "      <td>...</td>\n",
       "      <td>...</td>\n",
       "      <td>...</td>\n",
       "      <td>...</td>\n",
       "    </tr>\n",
       "    <tr>\n",
       "      <th>27934</th>\n",
       "      <td>Malla vía local</td>\n",
       "      <td>186.866659</td>\n",
       "      <td>186.866659</td>\n",
       "      <td>2.216708</td>\n",
       "      <td>POLYGON ((878112.685 981243.929, 878112.438 98...</td>\n",
       "      <td>27934</td>\n",
       "      <td>NaN</td>\n",
       "      <td>NaN</td>\n",
       "      <td>NaN</td>\n",
       "      <td>NaN</td>\n",
       "      <td>...</td>\n",
       "      <td>NaN</td>\n",
       "      <td>NaN</td>\n",
       "      <td>NaN</td>\n",
       "      <td>NaN</td>\n",
       "      <td>NaN</td>\n",
       "      <td>NaN</td>\n",
       "      <td>NaN</td>\n",
       "      <td>NaN</td>\n",
       "      <td>NaN</td>\n",
       "      <td>NaN</td>\n",
       "    </tr>\n",
       "    <tr>\n",
       "      <th>27935</th>\n",
       "      <td>Malla vía local</td>\n",
       "      <td>6.866659</td>\n",
       "      <td>6.866659</td>\n",
       "      <td>-2.216708</td>\n",
       "      <td>POLYGON ((878085.258 981267.094, 878085.505 98...</td>\n",
       "      <td>27935</td>\n",
       "      <td>NaN</td>\n",
       "      <td>NaN</td>\n",
       "      <td>NaN</td>\n",
       "      <td>NaN</td>\n",
       "      <td>...</td>\n",
       "      <td>NaN</td>\n",
       "      <td>NaN</td>\n",
       "      <td>NaN</td>\n",
       "      <td>NaN</td>\n",
       "      <td>NaN</td>\n",
       "      <td>NaN</td>\n",
       "      <td>NaN</td>\n",
       "      <td>NaN</td>\n",
       "      <td>NaN</td>\n",
       "      <td>NaN</td>\n",
       "    </tr>\n",
       "    <tr>\n",
       "      <th>27936</th>\n",
       "      <td>Malla vía local</td>\n",
       "      <td>318.237859</td>\n",
       "      <td>332.560504</td>\n",
       "      <td>3.375973</td>\n",
       "      <td>POLYGON ((874402.104 981751.950, 874400.691 98...</td>\n",
       "      <td>27936</td>\n",
       "      <td>3113.0</td>\n",
       "      <td>17 2015-08-14_07-06_vie - JuanGuillermo.gpx</td>\n",
       "      <td>7376.0</td>\n",
       "      <td>1175.98</td>\n",
       "      <td>...</td>\n",
       "      <td>37.159263</td>\n",
       "      <td>2015-08-14 13:34:16</td>\n",
       "      <td>4.431120</td>\n",
       "      <td>-75.209184</td>\n",
       "      <td>13:34:16</td>\n",
       "      <td>117.255179</td>\n",
       "      <td>48856.0</td>\n",
       "      <td>814.266667</td>\n",
       "      <td>13.571111</td>\n",
       "      <td>valle2</td>\n",
       "    </tr>\n",
       "    <tr>\n",
       "      <th>27936</th>\n",
       "      <td>Malla vía local</td>\n",
       "      <td>318.237859</td>\n",
       "      <td>332.560504</td>\n",
       "      <td>3.375973</td>\n",
       "      <td>POLYGON ((874402.104 981751.950, 874400.691 98...</td>\n",
       "      <td>27936</td>\n",
       "      <td>3112.0</td>\n",
       "      <td>17 2015-08-14_07-06_vie - JuanGuillermo.gpx</td>\n",
       "      <td>7375.0</td>\n",
       "      <td>1174.98</td>\n",
       "      <td>...</td>\n",
       "      <td>49.259692</td>\n",
       "      <td>2015-08-14 13:34:14</td>\n",
       "      <td>4.431201</td>\n",
       "      <td>-75.209351</td>\n",
       "      <td>13:34:14</td>\n",
       "      <td>115.361749</td>\n",
       "      <td>48854.0</td>\n",
       "      <td>814.233333</td>\n",
       "      <td>13.570556</td>\n",
       "      <td>valle2</td>\n",
       "    </tr>\n",
       "    <tr>\n",
       "      <th>27936</th>\n",
       "      <td>Malla vía local</td>\n",
       "      <td>318.237859</td>\n",
       "      <td>332.560504</td>\n",
       "      <td>3.375973</td>\n",
       "      <td>POLYGON ((874402.104 981751.950, 874400.691 98...</td>\n",
       "      <td>27936</td>\n",
       "      <td>3111.0</td>\n",
       "      <td>17 2015-08-14_07-06_vie - JuanGuillermo.gpx</td>\n",
       "      <td>7374.0</td>\n",
       "      <td>1174.98</td>\n",
       "      <td>...</td>\n",
       "      <td>47.644787</td>\n",
       "      <td>2015-08-14 13:34:13</td>\n",
       "      <td>4.431252</td>\n",
       "      <td>-75.209464</td>\n",
       "      <td>13:34:13</td>\n",
       "      <td>113.553116</td>\n",
       "      <td>48853.0</td>\n",
       "      <td>814.216667</td>\n",
       "      <td>13.570278</td>\n",
       "      <td>valle2</td>\n",
       "    </tr>\n",
       "  </tbody>\n",
       "</table>\n",
       "<p>61739 rows × 21 columns</p>\n",
       "</div>"
      ],
      "text/plain": [
       "                          JER_PMMEP     angulo1     angulo2     slope  \\\n",
       "0                   Malla vía local   36.123963   36.445994  1.828875   \n",
       "1      Malla víal arterial primaria  199.524533  216.501489 -4.077699   \n",
       "1      Malla víal arterial primaria  199.524533  216.501489 -4.077699   \n",
       "1      Malla víal arterial primaria  199.524533  216.501489 -4.077699   \n",
       "1      Malla víal arterial primaria  199.524533  216.501489 -4.077699   \n",
       "...                             ...         ...         ...       ...   \n",
       "27934               Malla vía local  186.866659  186.866659  2.216708   \n",
       "27935               Malla vía local    6.866659    6.866659 -2.216708   \n",
       "27936               Malla vía local  318.237859  332.560504  3.375973   \n",
       "27936               Malla vía local  318.237859  332.560504  3.375973   \n",
       "27936               Malla vía local  318.237859  332.560504  3.375973   \n",
       "\n",
       "                                                geometry    FID  index_right  \\\n",
       "0      POLYGON ((871463.827 982528.684, 871463.927 98...      0          NaN   \n",
       "1      POLYGON ((871518.385 982628.996, 871516.721 98...      1       5292.0   \n",
       "1      POLYGON ((871518.385 982628.996, 871516.721 98...      1       5290.0   \n",
       "1      POLYGON ((871518.385 982628.996, 871516.721 98...      1       5291.0   \n",
       "1      POLYGON ((871518.385 982628.996, 871516.721 98...      1       5289.0   \n",
       "...                                                  ...    ...          ...   \n",
       "27934  POLYGON ((878112.685 981243.929, 878112.438 98...  27934          NaN   \n",
       "27935  POLYGON ((878085.258 981267.094, 878085.505 98...  27935          NaN   \n",
       "27936  POLYGON ((874402.104 981751.950, 874400.691 98...  27936       3113.0   \n",
       "27936  POLYGON ((874402.104 981751.950, 874400.691 98...  27936       3112.0   \n",
       "27936  POLYGON ((874402.104 981751.950, 874400.691 98...  27936       3111.0   \n",
       "\n",
       "                                              file       ID   altura  ...  \\\n",
       "0                                              NaN      NaN      NaN  ...   \n",
       "1            20 2015-08-28_07-32_vie - Julieth.gpx  13979.0  1256.00  ...   \n",
       "1            20 2015-08-28_07-32_vie - Julieth.gpx  13974.0  1258.00  ...   \n",
       "1            20 2015-08-28_07-32_vie - Julieth.gpx  13975.0  1257.00  ...   \n",
       "1            20 2015-08-28_07-32_vie - Julieth.gpx  13973.0  1257.00  ...   \n",
       "...                                            ...      ...      ...  ...   \n",
       "27934                                          NaN      NaN      NaN  ...   \n",
       "27935                                          NaN      NaN      NaN  ...   \n",
       "27936  17 2015-08-14_07-06_vie - JuanGuillermo.gpx   7376.0  1175.98  ...   \n",
       "27936  17 2015-08-14_07-06_vie - JuanGuillermo.gpx   7375.0  1174.98  ...   \n",
       "27936  17 2015-08-14_07-06_vie - JuanGuillermo.gpx   7374.0  1174.98  ...   \n",
       "\n",
       "       velocity_k            timestamp   latitud   longitud    tiempo  \\\n",
       "0             NaN                  NaN       NaN        NaN       NaN   \n",
       "1        2.806701  2015-08-28 13:04:00  4.437793 -75.235493  13:04:00   \n",
       "1        1.197189  2015-08-28 13:03:52  4.437799 -75.235494  13:03:52   \n",
       "1        1.749954  2015-08-28 13:03:54  4.437806 -75.235489  13:03:54   \n",
       "1        5.302995  2015-08-28 13:03:51  4.437802 -75.235494  13:03:51   \n",
       "...           ...                  ...       ...        ...       ...   \n",
       "27934         NaN                  NaN       NaN        NaN       NaN   \n",
       "27935         NaN                  NaN       NaN        NaN       NaN   \n",
       "27936   37.159263  2015-08-14 13:34:16  4.431120 -75.209184  13:34:16   \n",
       "27936   49.259692  2015-08-14 13:34:14  4.431201 -75.209351  13:34:14   \n",
       "27936   47.644787  2015-08-14 13:34:13  4.431252 -75.209464  13:34:13   \n",
       "\n",
       "       angulo_vel      sec         min         hr  pico_valle  \n",
       "0             NaN      NaN         NaN        NaN         NaN  \n",
       "1      209.233676  47040.0  784.000000  13.066667      valle2  \n",
       "1       42.591893  47032.0  783.866667  13.064444      valle2  \n",
       "1       40.164214  47034.0  783.900000  13.065000      valle2  \n",
       "1      217.425912  47031.0  783.850000  13.064167      valle2  \n",
       "...           ...      ...         ...        ...         ...  \n",
       "27934         NaN      NaN         NaN        NaN         NaN  \n",
       "27935         NaN      NaN         NaN        NaN         NaN  \n",
       "27936  117.255179  48856.0  814.266667  13.571111      valle2  \n",
       "27936  115.361749  48854.0  814.233333  13.570556      valle2  \n",
       "27936  113.553116  48853.0  814.216667  13.570278      valle2  \n",
       "\n",
       "[61739 rows x 21 columns]"
      ]
     },
     "execution_count": 315,
     "metadata": {},
     "output_type": "execute_result"
    }
   ],
   "source": [
    "#Se visualiza la tabla\n",
    "spatial_join"
   ]
  },
  {
   "cell_type": "code",
   "execution_count": 316,
   "metadata": {},
   "outputs": [
    {
     "data": {
      "text/plain": [
       "JER_PMMEP          0\n",
       "angulo1            0\n",
       "angulo2            0\n",
       "slope              0\n",
       "geometry           0\n",
       "FID                0\n",
       "index_right    24782\n",
       "file           24782\n",
       "ID             24782\n",
       "altura         24782\n",
       "velocity_m     24782\n",
       "velocity_k     24782\n",
       "timestamp      24782\n",
       "latitud        24782\n",
       "longitud       24782\n",
       "tiempo         24782\n",
       "angulo_vel     24782\n",
       "sec            24782\n",
       "min            24782\n",
       "hr             24782\n",
       "pico_valle     24782\n",
       "dtype: int64"
      ]
     },
     "execution_count": 316,
     "metadata": {},
     "output_type": "execute_result"
    }
   ],
   "source": [
    "#se revisa cuantos puntos quedaron por fuera\n",
    "spatial_join.isna().sum() "
   ]
  },
  {
   "cell_type": "code",
   "execution_count": 317,
   "metadata": {},
   "outputs": [],
   "source": [
    "#Se quitan los puntos que no tomo\n",
    "spatial_join.dropna(inplace = True)"
   ]
  },
  {
   "cell_type": "code",
   "execution_count": 318,
   "metadata": {},
   "outputs": [
    {
     "data": {
      "text/html": [
       "<div>\n",
       "<style scoped>\n",
       "    .dataframe tbody tr th:only-of-type {\n",
       "        vertical-align: middle;\n",
       "    }\n",
       "\n",
       "    .dataframe tbody tr th {\n",
       "        vertical-align: top;\n",
       "    }\n",
       "\n",
       "    .dataframe thead th {\n",
       "        text-align: right;\n",
       "    }\n",
       "</style>\n",
       "<table border=\"1\" class=\"dataframe\">\n",
       "  <thead>\n",
       "    <tr style=\"text-align: right;\">\n",
       "      <th></th>\n",
       "      <th>angulo1</th>\n",
       "      <th>angulo2</th>\n",
       "      <th>angulo_vel</th>\n",
       "    </tr>\n",
       "  </thead>\n",
       "  <tbody>\n",
       "    <tr>\n",
       "      <th>1</th>\n",
       "      <td>199.524533</td>\n",
       "      <td>216.501489</td>\n",
       "      <td>209.233676</td>\n",
       "    </tr>\n",
       "    <tr>\n",
       "      <th>1</th>\n",
       "      <td>199.524533</td>\n",
       "      <td>216.501489</td>\n",
       "      <td>42.591893</td>\n",
       "    </tr>\n",
       "    <tr>\n",
       "      <th>1</th>\n",
       "      <td>199.524533</td>\n",
       "      <td>216.501489</td>\n",
       "      <td>40.164214</td>\n",
       "    </tr>\n",
       "    <tr>\n",
       "      <th>1</th>\n",
       "      <td>199.524533</td>\n",
       "      <td>216.501489</td>\n",
       "      <td>217.425912</td>\n",
       "    </tr>\n",
       "    <tr>\n",
       "      <th>1</th>\n",
       "      <td>199.524533</td>\n",
       "      <td>216.501489</td>\n",
       "      <td>219.128025</td>\n",
       "    </tr>\n",
       "    <tr>\n",
       "      <th>...</th>\n",
       "      <td>...</td>\n",
       "      <td>...</td>\n",
       "      <td>...</td>\n",
       "    </tr>\n",
       "    <tr>\n",
       "      <th>27930</th>\n",
       "      <td>169.878989</td>\n",
       "      <td>165.233660</td>\n",
       "      <td>252.844265</td>\n",
       "    </tr>\n",
       "    <tr>\n",
       "      <th>27930</th>\n",
       "      <td>169.878989</td>\n",
       "      <td>165.233660</td>\n",
       "      <td>115.361749</td>\n",
       "    </tr>\n",
       "    <tr>\n",
       "      <th>27936</th>\n",
       "      <td>318.237859</td>\n",
       "      <td>332.560504</td>\n",
       "      <td>117.255179</td>\n",
       "    </tr>\n",
       "    <tr>\n",
       "      <th>27936</th>\n",
       "      <td>318.237859</td>\n",
       "      <td>332.560504</td>\n",
       "      <td>115.361749</td>\n",
       "    </tr>\n",
       "    <tr>\n",
       "      <th>27936</th>\n",
       "      <td>318.237859</td>\n",
       "      <td>332.560504</td>\n",
       "      <td>113.553116</td>\n",
       "    </tr>\n",
       "  </tbody>\n",
       "</table>\n",
       "<p>36957 rows × 3 columns</p>\n",
       "</div>"
      ],
      "text/plain": [
       "          angulo1     angulo2  angulo_vel\n",
       "1      199.524533  216.501489  209.233676\n",
       "1      199.524533  216.501489   42.591893\n",
       "1      199.524533  216.501489   40.164214\n",
       "1      199.524533  216.501489  217.425912\n",
       "1      199.524533  216.501489  219.128025\n",
       "...           ...         ...         ...\n",
       "27930  169.878989  165.233660  252.844265\n",
       "27930  169.878989  165.233660  115.361749\n",
       "27936  318.237859  332.560504  117.255179\n",
       "27936  318.237859  332.560504  115.361749\n",
       "27936  318.237859  332.560504  113.553116\n",
       "\n",
       "[36957 rows x 3 columns]"
      ]
     },
     "execution_count": 318,
     "metadata": {},
     "output_type": "execute_result"
    }
   ],
   "source": [
    "spatial_join[[\"angulo1\", \"angulo2\", \"angulo_vel\"]]"
   ]
  },
  {
   "cell_type": "code",
   "execution_count": 319,
   "metadata": {},
   "outputs": [
    {
     "data": {
      "text/plain": [
       "0"
      ]
     },
     "execution_count": 319,
     "metadata": {},
     "output_type": "execute_result"
    }
   ],
   "source": [
    "0"
   ]
  },
  {
   "cell_type": "code",
   "execution_count": 320,
   "metadata": {},
   "outputs": [
    {
     "data": {
      "text/plain": [
       "760"
      ]
     },
     "execution_count": 320,
     "metadata": {},
     "output_type": "execute_result"
    }
   ],
   "source": [
    "#Angulos mayores a 331 grados\n",
    "spatial_join_selection_331a = spatial_join[(spatial_join.angulo1 > 330) & (spatial_join.angulo2 > 330)]\n",
    "spatial_join_selection_331a = spatial_join_selection_331a[((spatial_join_selection_331a.angulo_vel.between(0, spatial_join_selection_331a.angulo1 - 330,  \n",
    "                                                                                                      inclusive = True)) | \n",
    "                                                        (spatial_join_selection_331a.angulo_vel.between(spatial_join_selection_331a.angulo1 - 30, 360,  \n",
    "                                                                                                      inclusive = True))) |\n",
    "                                                       ((spatial_join_selection_331a.angulo_vel.between(0, spatial_join_selection_331a.angulo2 - 330,  \n",
    "                                                                                                      inclusive = True)) | \n",
    "                                                        (spatial_join_selection_331a.angulo_vel.between(spatial_join_selection_331a.angulo2 - 30, 360,  \n",
    "                                                                                                      inclusive = True)))]\n",
    "len(spatial_join_selection_331a)"
   ]
  },
  {
   "cell_type": "code",
   "execution_count": 321,
   "metadata": {},
   "outputs": [
    {
     "data": {
      "text/plain": [
       "32"
      ]
     },
     "execution_count": 321,
     "metadata": {},
     "output_type": "execute_result"
    }
   ],
   "source": [
    "#Angulos mayores a 331 grados\n",
    "spatial_join_selection_331b = spatial_join[(spatial_join.angulo1 > 330) & (spatial_join.angulo2 < 30)]\n",
    "spatial_join_selection_331b = spatial_join_selection_331b[((spatial_join_selection_331b.angulo_vel.between(0, spatial_join_selection_331b.angulo1 - 330,  \n",
    "                                                                                                      inclusive = True)) | \n",
    "                                                        (spatial_join_selection_331b.angulo_vel.between(spatial_join_selection_331b.angulo1 - 30, 360,  \n",
    "                                                                                                      inclusive = True))) |\n",
    "                                                       ((spatial_join_selection_331b.angulo_vel.between(0, spatial_join_selection_331b.angulo2 + 30,  \n",
    "                                                                                                      inclusive = True)) |\n",
    "                                                        (spatial_join_selection_331b.angulo_vel.between(spatial_join_selection_331b.angulo2 + 330,\n",
    "                                                                                                      360, inclusive = True)))]\n",
    "len(spatial_join_selection_331b)"
   ]
  },
  {
   "cell_type": "code",
   "execution_count": 322,
   "metadata": {},
   "outputs": [
    {
     "data": {
      "text/plain": [
       "120"
      ]
     },
     "execution_count": 322,
     "metadata": {},
     "output_type": "execute_result"
    }
   ],
   "source": [
    "#Angulos mayores a 331 grados\n",
    "spatial_join_selection_331c = spatial_join[(spatial_join.angulo1 > 330) & ((spatial_join.angulo2 <= 330) & (spatial_join.angulo2 >= 30))]\n",
    "spatial_join_selection_331c = spatial_join_selection_331c[((spatial_join_selection_331c.angulo_vel.between(0, spatial_join_selection_331c.angulo1 - 330,  \n",
    "                                                                                                      inclusive = True)) | \n",
    "                                                        (spatial_join_selection_331c.angulo_vel.between(spatial_join_selection_331c.angulo1 - 30, 360,  \n",
    "                                                                                                      inclusive = True))) |\n",
    "                                                        (spatial_join_selection_331c.angulo_vel.between(spatial_join_selection_331c.angulo2 - 30, \n",
    "                                                                                                        spatial_join_selection_331c.angulo2 + 30, \n",
    "                                                                                                        inclusive = True))]\n",
    "len(spatial_join_selection_331c)"
   ]
  },
  {
   "cell_type": "code",
   "execution_count": 323,
   "metadata": {},
   "outputs": [
    {
     "data": {
      "text/plain": [
       "37"
      ]
     },
     "execution_count": 323,
     "metadata": {},
     "output_type": "execute_result"
    }
   ],
   "source": [
    "#Angulos menores a 30 grados\n",
    "spatial_join_selection_30a = spatial_join[(spatial_join.angulo1 < 30) & (spatial_join.angulo2 > 330)]\n",
    "spatial_join_selection_30a = spatial_join_selection_30a[((spatial_join_selection_30a.angulo_vel.between(0, spatial_join_selection_30a.angulo1 + 30,  \n",
    "                                                                                                      inclusive = True)) | \n",
    "                                                        (spatial_join_selection_30a.angulo_vel.between(spatial_join_selection_30a.angulo1 + 330, 360,  \n",
    "                                                                                                      inclusive = True))) |\n",
    "                                                       ((spatial_join_selection_30a.angulo_vel.between(0, spatial_join_selection_30a.angulo2 - 330,  \n",
    "                                                                                                      inclusive = True)) | \n",
    "                                                        (spatial_join_selection_30a.angulo_vel.between(spatial_join_selection_30a.angulo2 - 30, 360,  \n",
    "                                                                                                      inclusive = True)))]\n",
    "len(spatial_join_selection_30a)"
   ]
  },
  {
   "cell_type": "code",
   "execution_count": 324,
   "metadata": {},
   "outputs": [
    {
     "data": {
      "text/plain": [
       "506"
      ]
     },
     "execution_count": 324,
     "metadata": {},
     "output_type": "execute_result"
    }
   ],
   "source": [
    "#Angulos menores a 30 grados\n",
    "spatial_join_selection_30b = spatial_join[(spatial_join.angulo1 < 30) & (spatial_join.angulo2 < 30)]\n",
    "spatial_join_selection_30b = spatial_join_selection_30b[((spatial_join_selection_30b.angulo_vel.between(0, spatial_join_selection_30b.angulo1 + 30,  \n",
    "                                                                                                      inclusive = True)) | \n",
    "                                                        (spatial_join_selection_30b.angulo_vel.between(spatial_join_selection_30b.angulo1 + 330, 360,  \n",
    "                                                                                                      inclusive = True))) |\n",
    "                                                       ((spatial_join_selection_30b.angulo_vel.between(0, spatial_join_selection_30b.angulo2 + 30,  \n",
    "                                                                                                      inclusive = True)) | \n",
    "                                                        (spatial_join_selection_30b.angulo_vel.between(spatial_join_selection_30b.angulo2 + 330, 360,  \n",
    "                                                                                                      inclusive = True)))]\n",
    "len(spatial_join_selection_30b)"
   ]
  },
  {
   "cell_type": "code",
   "execution_count": 325,
   "metadata": {},
   "outputs": [
    {
     "data": {
      "text/plain": [
       "77"
      ]
     },
     "execution_count": 325,
     "metadata": {},
     "output_type": "execute_result"
    }
   ],
   "source": [
    "#Angulos menores a 30 grados\n",
    "spatial_join_selection_30c = spatial_join[(spatial_join.angulo1 < 30) & ((spatial_join.angulo2 <= 330) & (spatial_join.angulo2 >= 30))]\n",
    "spatial_join_selection_30c = spatial_join_selection_30c[((spatial_join_selection_30c.angulo_vel.between(0, spatial_join_selection_30c.angulo1 + 30,  \n",
    "                                                                                                      inclusive = True)) | \n",
    "                                                        (spatial_join_selection_30c.angulo_vel.between(spatial_join_selection_30c.angulo1 + 330, 360,  \n",
    "                                                                                                      inclusive = True))) |\n",
    "                                                        (spatial_join_selection_30c.angulo_vel.between(spatial_join_selection_30c.angulo2 - 30, \n",
    "                                                                                                        spatial_join_selection_30c.angulo2 + 30, \n",
    "                                                                                                        inclusive = True))]\n",
    "len(spatial_join_selection_30c)"
   ]
  },
  {
   "cell_type": "code",
   "execution_count": 326,
   "metadata": {},
   "outputs": [
    {
     "data": {
      "text/plain": [
       "15"
      ]
     },
     "execution_count": 326,
     "metadata": {},
     "output_type": "execute_result"
    }
   ],
   "source": [
    "#Resto\n",
    "spatial_join_selection_Ra = spatial_join[((spatial_join.angulo1 >= 30) & (spatial_join.angulo1 <= 330)) & (spatial_join.angulo2 > 330)]\n",
    "spatial_join_selection_Ra = spatial_join_selection_Ra[(spatial_join_selection_Ra.angulo_vel.between(spatial_join_selection_Ra.angulo1 - 30, \n",
    "                                                                                                 spatial_join_selection_Ra.angulo1 + 30, \n",
    "                                                                                                 inclusive = True)) |\n",
    "                                                        ((spatial_join_selection_Ra.angulo_vel.between(0, spatial_join_selection_Ra.angulo2 - 330,  \n",
    "                                                                                                      inclusive = True)) | \n",
    "                                                        (spatial_join_selection_Ra.angulo_vel.between(spatial_join_selection_Ra.angulo2 - 30, 360,  \n",
    "                                                                                                      inclusive = True)))]\n",
    "len(spatial_join_selection_Ra)"
   ]
  },
  {
   "cell_type": "code",
   "execution_count": 327,
   "metadata": {},
   "outputs": [
    {
     "data": {
      "text/plain": [
       "34"
      ]
     },
     "execution_count": 327,
     "metadata": {},
     "output_type": "execute_result"
    }
   ],
   "source": [
    "#Resto\n",
    "spatial_join_selection_Rb = spatial_join[((spatial_join.angulo1 >= 30) & (spatial_join.angulo1 <= 330)) & (spatial_join.angulo2 < 30)]\n",
    "spatial_join_selection_Rb = spatial_join_selection_Rb[(spatial_join_selection_Rb.angulo_vel.between(spatial_join_selection_Rb.angulo1 - 30, \n",
    "                                                                                                 spatial_join_selection_Rb.angulo1 + 30, \n",
    "                                                                                                 inclusive = True)) |\n",
    "                                                        ((spatial_join_selection_Rb.angulo_vel.between(0, spatial_join_selection_Rb.angulo2 + 30,  \n",
    "                                                                                                      inclusive = True)) | \n",
    "                                                        (spatial_join_selection_Rb.angulo_vel.between(spatial_join_selection_Rb.angulo2 + 330, 360,  \n",
    "                                                                                                      inclusive = True)))]\n",
    "len(spatial_join_selection_Rb)"
   ]
  },
  {
   "cell_type": "code",
   "execution_count": 328,
   "metadata": {},
   "outputs": [
    {
     "data": {
      "text/plain": [
       "13027"
      ]
     },
     "execution_count": 328,
     "metadata": {},
     "output_type": "execute_result"
    }
   ],
   "source": [
    "#Resto\n",
    "spatial_join_selection_Rc = spatial_join[((spatial_join.angulo1 >= 30) & (spatial_join.angulo1 <= 330)) & ((spatial_join.angulo2 <= 330) & (spatial_join.angulo2 >= 30))]\n",
    "spatial_join_selection_Rc = spatial_join_selection_Rc[(spatial_join_selection_Rc.angulo_vel.between(spatial_join_selection_Rc.angulo1 - 30, \n",
    "                                                                                                 spatial_join_selection_Rc.angulo1 + 30, \n",
    "                                                                                                 inclusive = True)) |\n",
    "                                                        (spatial_join_selection_Rc.angulo_vel.between(spatial_join_selection_Rc.angulo2 - 30, \n",
    "                                                                                                        spatial_join_selection_Rc.angulo2 + 30, \n",
    "                                                                                                        inclusive = True))]\n",
    "len(spatial_join_selection_Rc)"
   ]
  },
  {
   "cell_type": "code",
   "execution_count": 329,
   "metadata": {},
   "outputs": [],
   "source": [
    "spatial_join_final = pd.concat([spatial_join_selection_331a, spatial_join_selection_331b, spatial_join_selection_331c, \n",
    "                                spatial_join_selection_30a, spatial_join_selection_30b, spatial_join_selection_30c, \n",
    "                                spatial_join_selection_Ra, spatial_join_selection_Rb, spatial_join_selection_Rc], axis = 0)"
   ]
  },
  {
   "cell_type": "code",
   "execution_count": 330,
   "metadata": {},
   "outputs": [
    {
     "data": {
      "text/plain": [
       "14608"
      ]
     },
     "execution_count": 330,
     "metadata": {},
     "output_type": "execute_result"
    }
   ],
   "source": [
    "len(spatial_join_final)"
   ]
  },
  {
   "cell_type": "code",
   "execution_count": 331,
   "metadata": {},
   "outputs": [
    {
     "data": {
      "text/plain": [
       "Index(['JER_PMMEP', 'angulo1', 'angulo2', 'slope', 'geometry', 'FID',\n",
       "       'index_right', 'file', 'ID', 'altura', 'velocity_m', 'velocity_k',\n",
       "       'timestamp', 'latitud', 'longitud', 'tiempo', 'angulo_vel', 'sec',\n",
       "       'min', 'hr', 'pico_valle'],\n",
       "      dtype='object')"
      ]
     },
     "execution_count": 331,
     "metadata": {},
     "output_type": "execute_result"
    }
   ],
   "source": [
    "spatial_join_final.columns"
   ]
  },
  {
   "cell_type": "code",
   "execution_count": 332,
   "metadata": {},
   "outputs": [],
   "source": [
    "#velocidad_modo = spatial_join_final.groupby(['FID', 'pico_valle'])[\"velocity_k\"].mean().reset_index()\n",
    "velocidad_modo = spatial_join_final.groupby(['FID'])[\"velocity_k\"].mean().reset_index()"
   ]
  },
  {
   "cell_type": "code",
   "execution_count": 333,
   "metadata": {},
   "outputs": [
    {
     "data": {
      "text/plain": [
       "Index(['FID', 'velocity_k'], dtype='object')"
      ]
     },
     "execution_count": 333,
     "metadata": {},
     "output_type": "execute_result"
    }
   ],
   "source": [
    "velocidad_modo.columns"
   ]
  },
  {
   "cell_type": "code",
   "execution_count": 334,
   "metadata": {},
   "outputs": [
    {
     "data": {
      "text/plain": [
       "1286"
      ]
     },
     "execution_count": 334,
     "metadata": {},
     "output_type": "execute_result"
    }
   ],
   "source": [
    "len(velocidad_modo)"
   ]
  },
  {
   "cell_type": "code",
   "execution_count": 335,
   "metadata": {},
   "outputs": [
    {
     "data": {
      "text/plain": [
       "27937"
      ]
     },
     "execution_count": 335,
     "metadata": {},
     "output_type": "execute_result"
    }
   ],
   "source": [
    "len(red_actual_veh)"
   ]
  },
  {
   "cell_type": "code",
   "execution_count": 336,
   "metadata": {},
   "outputs": [
    {
     "data": {
      "text/plain": [
       "27937"
      ]
     },
     "execution_count": 336,
     "metadata": {},
     "output_type": "execute_result"
    }
   ],
   "source": [
    "red_actual_veh = pd.merge(red_actual_veh, velocidad_modo, on = \"FID\", how = \"left\")\n",
    "len(red_actual_veh)"
   ]
  },
  {
   "cell_type": "code",
   "execution_count": 337,
   "metadata": {},
   "outputs": [
    {
     "data": {
      "image/png": "[encoded data removed]",
      "text/plain": [
       "<Figure size 432x288 with 1 Axes>"
      ]
     },
     "metadata": {
      "needs_background": "light"
     },
     "output_type": "display_data"
    }
   ],
   "source": [
    "spatial_join_final.plot()\n",
    "plt.xlabel('Este')\n",
    "plt.ylabel('Norte')\n",
    "#plt.title('Arcos con velocidades promedio de GPS en TPC 07:15 - 08:15')\n",
    "plt.title('Arcos con velocidades promedio de GPS en TPC 12:45 - 13:45')\n",
    "# Set axes\n",
    "\n",
    "plt.xlim(868000, 884000)\n",
    "plt.ylim(976000, 986000)\n",
    "plt.savefig(\"G:/Mi unidad/Docencia/Maestria UNAL/Trabajo de grado/Tesis 2.0/Tesis/Articulo/Graficas/boxplot/TPC7V2.png\", dpi = 600)"
   ]
  },
  {
   "cell_type": "code",
   "execution_count": 85,
   "metadata": {},
   "outputs": [
    {
     "data": {
      "text/plain": [
       "<AxesSubplot:>"
      ]
     },
     "execution_count": 85,
     "metadata": {},
     "output_type": "execute_result"
    },
    {
     "data": {
      "image/png": "[encoded data removed]",
      "text/plain": [
       "<Figure size 432x288 with 1 Axes>"
      ]
     },
     "metadata": {
      "needs_background": "light"
     },
     "output_type": "display_data"
    }
   ],
   "source": [
    "red_actual_veh.plot()"
   ]
  },
  {
   "cell_type": "code",
   "execution_count": 47,
   "metadata": {},
   "outputs": [],
   "source": [
    "#red_actual_veh.to_file(\"G:/Mi unidad/Docencia/Maestria UNAL/Trabajo de grado/Tesis 2.0/Tesis/Redes_GIS/Red_vial_modo_Ibague_vel/Carro_vel.shp\")\n",
    "#red_actual_veh.to_file(\"G:/Mi unidad/Docencia/Maestria UNAL/Trabajo de grado/Tesis 2.0/Tesis/Redes_GIS/Red_vial_modo_Ibague_vel_prub/Carro_vel.shp\")\n",
    "#red_actual_veh.to_file(\"G:/Mi unidad/Docencia/Maestria UNAL/Trabajo de grado/Tesis 2.0/Tesis/Red_Inf_Vial/Asignacion_Franjas/TPC/pico1.shp\")\n",
    "#red_actual_veh.to_file(\"G:/Mi unidad/Docencia/Maestria UNAL/Trabajo de grado/Tesis 2.0/Tesis/Red_Inf_Vial/Asignacion_Franjas/Bici/pico4.shp\")\n",
    "red_actual_veh.to_file(\"G:/Mi unidad/Docencia/Maestria UNAL/Trabajo de grado/Tesis 2.0/Tesis/Red_Inf_Vial/Asignacion_Franjas/Bici/BicFP1.shp\")\n",
    "#red_actual_veh.to_file(\"G:/Mi unidad/Docencia/Maestria UNAL/Trabajo de grado/Tesis 2.0/Tesis/Red_Inf_Vial/Asignacion_Franjas/Carro/pico3.shp\")\n",
    "#red_actual_veh.to_file(\"G:/Mi unidad/Docencia/Maestria UNAL/Trabajo de grado/Tesis 2.0/Tesis/Red_Inf_Vial/Asignacion_Franjas/Carro/pico4.shp\")\n",
    "#red_actual_veh.to_file(\"G:/Mi unidad/Docencia/Maestria UNAL/Trabajo de grado/Tesis 2.0/Tesis/Red_Inf_Vial/Asignacion_Franjas/Carro/valle1.shp\")\n",
    "#red_actual_veh.to_file(\"G:/Mi unidad/Docencia/Maestria UNAL/Trabajo de grado/Tesis 2.0/Tesis/Red_Inf_Vial/Asignacion_Franjas/TPC/valle2.shp\")\n",
    "#red_actual_veh.to_file(\"G:/Mi unidad/Docencia/Maestria UNAL/Trabajo de grado/Tesis 2.0/Tesis/Red_Inf_Vial/Asignacion_Franjas/Carro/valle3.shp\")\n",
    "#red_actual_veh.to_file(\"G:/Mi unidad/Docencia/Maestria UNAL/Trabajo de grado/Tesis 2.0/Tesis/Red_Inf_Vial/Asignacion_Franjas/Carro/valle4.shp\")"
   ]
  },
  {
   "cell_type": "markdown",
   "metadata": {},
   "source": [
    "Continua en 07c-Analisis_velocidad_horario.ipynb donde se distinguiran las velocidades segun el horario"
   ]
  },
  {
   "cell_type": "code",
   "execution_count": 48,
   "metadata": {},
   "outputs": [
    {
     "data": {
      "text/plain": [
       "Index(['DIR', 'NOMENCLATU', 'CATEGORIA', 'NOMEN', 'JER_POT', 'JER_PMMEP',\n",
       "       'Long_KM', 'Shape_Leng', 'angulo1', 'angulo2', 'slope', 'geometry',\n",
       "       'FID', 'velocity_k'],\n",
       "      dtype='object')"
      ]
     },
     "execution_count": 48,
     "metadata": {},
     "output_type": "execute_result"
    }
   ],
   "source": [
    "red_actual_veh.columns"
   ]
  },
  {
   "cell_type": "code",
   "execution_count": null,
   "metadata": {},
   "outputs": [],
   "source": []
  }
 ],
 "metadata": {
  "kernelspec": {
   "display_name": "Python 3",
   "language": "python",
   "name": "python3"
  },
  "language_info": {
   "codemirror_mode": {
    "name": "ipython",
    "version": 3
   },
   "file_extension": ".py",
   "mimetype": "text/x-python",
   "name": "python",
   "nbconvert_exporter": "python",
   "pygments_lexer": "ipython3",
   "version": "3.8.5"
  }
 },
 "nbformat": 4,
 "nbformat_minor": 4
}
