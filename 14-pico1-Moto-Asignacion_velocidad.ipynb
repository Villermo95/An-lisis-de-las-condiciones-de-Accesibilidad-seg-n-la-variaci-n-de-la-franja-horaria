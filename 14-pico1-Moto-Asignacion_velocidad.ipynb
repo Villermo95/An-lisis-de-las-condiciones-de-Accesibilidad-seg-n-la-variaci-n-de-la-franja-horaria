{
 "cells": [
  {
   "cell_type": "markdown",
   "metadata": {},
   "source": [
    "# Validación modelo de velocidad\n",
    "En este codigo se expondran diferentes modelos estadisticos para determinar el mas representativo para calcular velocidades\n",
    "\n",
    "## Necesarios\n",
    "* Red de infraestructura con las velocidades y jerarquia definida\n",
    "* Librerias para procesamiento de datos"
   ]
  },
  {
   "cell_type": "code",
   "execution_count": 22,
   "metadata": {},
   "outputs": [],
   "source": [
    "# Tratamiento de datos\n",
    "# ==============================================================================\n",
    "import pandas as pd\n",
    "import numpy as np\n",
    "import geopandas as gp\n",
    "\n",
    "# Gráficos\n",
    "# ==============================================================================\n",
    "import matplotlib.pyplot as plt\n",
    "from matplotlib import style\n",
    "import seaborn as sns\n",
    "import plotnine\n",
    "import dataframe_image as dfi \n",
    "\n",
    "# Preprocesado y modelado\n",
    "# ==============================================================================\n",
    "from scipy.stats import pearsonr\n",
    "from sklearn.linear_model import LinearRegression\n",
    "from sklearn.model_selection import train_test_split\n",
    "from sklearn.metrics import r2_score\n",
    "from sklearn.metrics import mean_squared_error\n",
    "from sklearn import linear_model\n",
    "from sklearn import datasets\n",
    "import statsmodels.api as sm\n",
    "import statsmodels.formula.api as smf\n",
    "\n",
    "# Configuración matplotlib\n",
    "# ==============================================================================\n",
    "plt.rcParams['image.cmap'] = \"bwr\"\n",
    "#plt.rcParams['figure.dpi'] = \"100\"\n",
    "plt.rcParams['savefig.bbox'] = \"tight\"\n",
    "style.use('ggplot') or plt.style.use('ggplot')\n",
    "\n",
    "# Configuración warnings\n",
    "# ==============================================================================\n",
    "import warnings\n",
    "warnings.filterwarnings('ignore')"
   ]
  },
  {
   "cell_type": "markdown",
   "metadata": {},
   "source": [
    "## Motoo"
   ]
  },
  {
   "cell_type": "code",
   "execution_count": 47,
   "metadata": {},
   "outputs": [],
   "source": [
    "#Se cargan las dos redes de infraestructura con velocidades GPS de carro\n",
    "#Red1 Corresponde a la red que fue construida sin realizar limpieza de datos GPS\n",
    "red1 = gp.read_file(\"G:/Mi unidad/Docencia/Maestria UNAL/Trabajo de grado/Tesis 2.0/Tesis/Red_Inf_Vial/Asignacion_Franjas/Moto/valle2.shp\")\n",
    "#red1 = gp.read_file(\"G:/Mi unidad/Docencia/Maestria UNAL/Trabajo de grado/Tesis 2.0/Tesis/Red_Inf_Vial/Asignacion_Franjas/Moto/Pico1.shp\")\n",
    "#Red2 Corresponde a la red con velocidades tratadas en los puntos GPS\n",
    "red2 = gp.read_file(\"C:/Users/user/Desktop/Tesis/cienpuntos/Redes/Base/CarroSA_vel.shp\")\n",
    "#A las redes se les cambia el formato de estos datos para evitar fallos\n",
    "red1[['slope', 'velocity_k']] =red1[['slope', 'velocity_k']].astype(float)\n",
    "red2[['slope', 'velocity_k']] =red2[['slope', 'velocity_k']].astype(float)"
   ]
  },
  {
   "cell_type": "code",
   "execution_count": 48,
   "metadata": {},
   "outputs": [],
   "source": [
    "for i in range(0, len(red1)):\n",
    "    if  (red1.loc[i,'JER_PMMEP'] == \"Malla vía local\"):\n",
    "        red1.loc[i,'JER_PMMEP']=\"Malla víal local\"\n",
    "for i in range(0, len(red2)):\n",
    "    if  (red2.loc[i,'JER_PMMEP'] == \"Malla vía local\"):\n",
    "        red2.loc[i,'JER_PMMEP']=\"Malla víal local\""
   ]
  },
  {
   "cell_type": "code",
   "execution_count": 49,
   "metadata": {},
   "outputs": [
    {
     "name": "stdout",
     "output_type": "stream",
     "text": [
      "# datos red:  27937\n",
      "# datos sin vacios:  411\n"
     ]
    }
   ],
   "source": [
    "#Se eliminan los datos de velocidad que esten vacios para realizar los calculos RED1\n",
    "#selec=np.isnan(datos['velocity_k'])\n",
    "data1 = red1.dropna(subset=[\"velocity_k\"])\n",
    "print(\"# datos red: \", len(red1))\n",
    "print(\"# datos sin vacios: \", len(data1))"
   ]
  },
  {
   "cell_type": "code",
   "execution_count": 50,
   "metadata": {},
   "outputs": [
    {
     "name": "stdout",
     "output_type": "stream",
     "text": [
      "# datos red:  28246\n",
      "# datos sin vacios:  4275\n"
     ]
    }
   ],
   "source": [
    "#Se eliminan los datos de velocidad que esten vacios para realizar los calculos RED2\n",
    "#selec=np.isnan(datos['velocity_k'])\n",
    "data2 = red2.dropna(subset=[\"velocity_k\"])\n",
    "print(\"# datos red: \", len(red2))\n",
    "print(\"# datos sin vacios: \", len(data2))"
   ]
  },
  {
   "cell_type": "markdown",
   "metadata": {},
   "source": [
    "## Box Plot\n",
    "## Media y desv std"
   ]
  },
  {
   "cell_type": "code",
   "execution_count": 51,
   "metadata": {},
   "outputs": [
    {
     "data": {
      "image/png": "[encoded data removed]",
      "text/plain": [
       "<Figure size 432x288 with 1 Axes>"
      ]
     },
     "metadata": {},
     "output_type": "display_data"
    }
   ],
   "source": [
    "#Se realiza el boxplot de las velocidades en carro RED1\n",
    "sns.set_theme(style=\"whitegrid\")\n",
    "boxplot = sns.boxplot(y=data1[\"velocity_k\"])\n",
    "boxplot.axes.set_title(\"Distribución datos de velocidad\", fontsize=14)\n",
    "boxplot.set_xlabel(\" \", fontsize=12)\n",
    "boxplot.set_ylabel(\"Velocidad (km/h)\", fontsize=12)\n",
    "#plt.show()\n",
    "plt.savefig(\"C:/Users/user/Desktop/Tesis/Figuras/Pico2/01BoxplotGeneral.png\", dpi = 300)"
   ]
  },
  {
   "cell_type": "code",
   "execution_count": 52,
   "metadata": {},
   "outputs": [
    {
     "data": {
      "image/png": "[encoded data removed]",
      "text/plain": [
       "<Figure size 432x288 with 1 Axes>"
      ]
     },
     "metadata": {},
     "output_type": "display_data"
    }
   ],
   "source": [
    "#Se realiza el boxplot de las velocidades en carro RED2\n",
    "boxplot = sns.boxplot(data=data2[\"velocity_k\"])\n",
    "boxplot.axes.set_title(\"Distribución datos de velocidad\", fontsize=14)\n",
    "boxplot.set_xlabel(\" \", fontsize=12)\n",
    "boxplot.set_ylabel(\"Velocidad (km/h)\", fontsize=12)\n",
    "plt.show()"
   ]
  },
  {
   "cell_type": "code",
   "execution_count": 53,
   "metadata": {},
   "outputs": [
    {
     "name": "stdout",
     "output_type": "stream",
     "text": [
      "Media1:  33.114725871129124\n",
      "Media2:  28.526648455759144\n",
      " \n",
      "Mediana1:  31.54421205680561\n",
      "Mediana2:  26.663355606719467\n",
      " \n",
      "Desviasión estandar1:  16.304911248658385\n",
      "Desviasión estandar2:  14.526027652498701\n",
      " \n",
      "Variancia1:  265.85013082662675\n",
      "Variancia2:  211.00547936115694\n"
     ]
    }
   ],
   "source": [
    "#La media aritmética se define como la suma de N elementos dividida entre N.\n",
    "media1 = data1[\"velocity_k\"].mean()\n",
    "media2 = data2[\"velocity_k\"].mean()\n",
    "#La mediana es el valor que dentro del conjunto de datos es menor que el 50% de los datos y mayor que el 50% restante.\n",
    "mediana1 = data1[\"velocity_k\"].median()\n",
    "mediana2 = data2[\"velocity_k\"].median()\n",
    "#La desviación típica mide la dispersión de los datos respecto a la media\n",
    "desvstd1 = data1[\"velocity_k\"].std(ddof=0)\n",
    "desvstd2 = data2[\"velocity_k\"].std(ddof=0)\n",
    "var1 = data1[\"velocity_k\"].var(ddof=0)\n",
    "var2 = data2[\"velocity_k\"].var(ddof=0)\n",
    "\n",
    "print(\"Media1: \", media1)\n",
    "print(\"Media2: \", media2)\n",
    "print(\" \")\n",
    "print(\"Mediana1: \", mediana1)\n",
    "print(\"Mediana2: \", mediana2)\n",
    "print(\" \")\n",
    "print(\"Desviasión estandar1: \", desvstd1)\n",
    "print(\"Desviasión estandar2: \", desvstd2)\n",
    "print(\" \")\n",
    "print(\"Variancia1: \", var1)\n",
    "print(\"Variancia2: \", var2)"
   ]
  },
  {
   "cell_type": "code",
   "execution_count": 54,
   "metadata": {},
   "outputs": [
    {
     "data": {
      "text/plain": [
       "Text(0, 0.5, 'Jerarquia segun PMMEP')"
      ]
     },
     "execution_count": 54,
     "metadata": {},
     "output_type": "execute_result"
    },
    {
     "data": {
      "image/png": "[encoded data removed]",
      "text/plain": [
       "<Figure size 432x288 with 1 Axes>"
      ]
     },
     "metadata": {},
     "output_type": "display_data"
    }
   ],
   "source": [
    "#Se realiza el boxplot de las velocidades en carro de la RED1 teniendo en cuenta la jerarquia de estas\n",
    "boxplot = sns.boxplot(y=data1[\"JER_PMMEP\"], x=data1[\"velocity_k\"],\n",
    "                     order=[\"Malla víal arterial primaria\", \"Malla víal arterial secundari\", \"Colectoras\", \"Malla víal local\", \"Cero emisiones\"])\n",
    "boxplot.axes.set_title(\"Distribución datos de velocidad por jerarquia Moto 07:15 - 08:15\", fontsize=14)\n",
    "boxplot.set_xlabel(\"Velocidad (km/h)\", fontsize=12)\n",
    "boxplot.set_ylabel(\"Jerarquia segun PMMEP\", fontsize=12)\n",
    "#plt.show()\n",
    "#plt.savefig(\"G:/Mi unidad/Docencia/Maestria UNAL/Trabajo de grado/Tesis 2.0/Tesis/Articulo/Graficas/boxplot/Moto8P1.png\", dpi = 600)"
   ]
  },
  {
   "cell_type": "code",
   "execution_count": 55,
   "metadata": {},
   "outputs": [
    {
     "data": {
      "image/png": "[encoded data removed]",
      "text/plain": [
       "<Figure size 432x288 with 1 Axes>"
      ]
     },
     "metadata": {},
     "output_type": "display_data"
    }
   ],
   "source": [
    "#Se realiza el boxplot de las velocidades en carro de la RED2 teniendo en cuenta la jerarquia de estas\n",
    "boxplot = sns.boxplot(y=data2[\"JER_PMMEP\"], x=data2[\"velocity_k\"])\n",
    "boxplot.axes.set_title(\"Distribución datos de velocidad por jerarquia\", fontsize=14)\n",
    "boxplot.set_xlabel(\"Velocidad (km/h)\", fontsize=12)\n",
    "boxplot.set_ylabel(\"Jerarquia segun PMMEP\", fontsize=12)\n",
    "plt.show()"
   ]
  },
  {
   "cell_type": "code",
   "execution_count": 56,
   "metadata": {},
   "outputs": [
    {
     "data": {
      "text/plain": [
       "Index(['DIR', 'NOMENCLATU', 'CATEGORIA', 'NOMEN', 'JER_POT', 'JER_PMMEP',\n",
       "       'Long_KM', 'Shape_Leng', 'angulo1', 'angulo2', 'slope', 'FID',\n",
       "       'velocity_k', 'geometry'],\n",
       "      dtype='object')"
      ]
     },
     "execution_count": 56,
     "metadata": {},
     "output_type": "execute_result"
    }
   ],
   "source": [
    "data1.columns"
   ]
  },
  {
   "cell_type": "code",
   "execution_count": 57,
   "metadata": {},
   "outputs": [],
   "source": [
    "#g = sns.catplot(y=\"JER_PMMEP\", x=\"velocity_k\",\n",
    "#                hue=\"pico_valle\",\n",
    "#                data=data1, kind=\"box\",\n",
    "#                height=8.0, aspect=1.2);"
   ]
  },
  {
   "cell_type": "code",
   "execution_count": null,
   "metadata": {},
   "outputs": [],
   "source": []
  },
  {
   "cell_type": "code",
   "execution_count": 58,
   "metadata": {},
   "outputs": [],
   "source": [
    "#Se separan los datos para determinar los valores estadisticos de la red dividida por jerarquia\n",
    "data1primaria = data1[(data1.JER_PMMEP == \"Malla víal arterial primaria\")]\n",
    "\n",
    "data1secundari = data1[(data1.JER_PMMEP == \"Malla víal arterial secundari\")]\n",
    "\n",
    "data1local = data1[(data1.JER_PMMEP == \"Malla víal local\")]\n",
    "\n",
    "data1Colectoras = data1[(data1.JER_PMMEP == \"Colectoras\")]\n",
    "\n",
    "data1Cero = data1[(data1.JER_PMMEP == \"Cero emisiones\")]"
   ]
  },
  {
   "cell_type": "code",
   "execution_count": 59,
   "metadata": {},
   "outputs": [
    {
     "data": {
      "text/html": [
       "<div>\n",
       "<style scoped>\n",
       "    .dataframe tbody tr th:only-of-type {\n",
       "        vertical-align: middle;\n",
       "    }\n",
       "\n",
       "    .dataframe tbody tr th {\n",
       "        vertical-align: top;\n",
       "    }\n",
       "\n",
       "    .dataframe thead th {\n",
       "        text-align: right;\n",
       "    }\n",
       "</style>\n",
       "<table border=\"1\" class=\"dataframe\">\n",
       "  <thead>\n",
       "    <tr style=\"text-align: right;\">\n",
       "      <th></th>\n",
       "      <th>hora 07:15 - 8:15</th>\n",
       "      <th>primaria</th>\n",
       "      <th>secundari</th>\n",
       "      <th>local</th>\n",
       "      <th>Colectoras</th>\n",
       "      <th>Cero emisiones</th>\n",
       "    </tr>\n",
       "  </thead>\n",
       "  <tbody>\n",
       "    <tr>\n",
       "      <th>0</th>\n",
       "      <td>media</td>\n",
       "      <td>[45.708703392172666]</td>\n",
       "      <td>[25.16274786094586]</td>\n",
       "      <td>[29.499987891755314]</td>\n",
       "      <td>[37.836658085637914]</td>\n",
       "      <td>[nan]</td>\n",
       "    </tr>\n",
       "    <tr>\n",
       "      <th>1</th>\n",
       "      <td>desv std</td>\n",
       "      <td>[20.01524858780904]</td>\n",
       "      <td>[9.152308411239131]</td>\n",
       "      <td>[12.780165030963019]</td>\n",
       "      <td>[14.300178258343754]</td>\n",
       "      <td>[nan]</td>\n",
       "    </tr>\n",
       "  </tbody>\n",
       "</table>\n",
       "</div>"
      ],
      "text/plain": [
       "  hora 07:15 - 8:15              primaria            secundari  \\\n",
       "0             media  [45.708703392172666]  [25.16274786094586]   \n",
       "1          desv std   [20.01524858780904]  [9.152308411239131]   \n",
       "\n",
       "                  local            Colectoras Cero emisiones  \n",
       "0  [29.499987891755314]  [37.836658085637914]          [nan]  \n",
       "1  [12.780165030963019]  [14.300178258343754]          [nan]  "
      ]
     },
     "execution_count": 59,
     "metadata": {},
     "output_type": "execute_result"
    }
   ],
   "source": [
    "#Se calculan los valores medios segun la jerarquia\n",
    "mediaprimaria = [data1primaria[\"velocity_k\"].mean()]\n",
    "mediasecundaria = [data1secundari[\"velocity_k\"].mean()]\n",
    "medialocal = [data1local[\"velocity_k\"].mean()]\n",
    "mediacolectora = [data1Colectoras[\"velocity_k\"].mean()]\n",
    "mediacero = [data1Cero[\"velocity_k\"].mean()]\n",
    "desvstdprimaria = [data1primaria[\"velocity_k\"].std(ddof=0)]\n",
    "desvstdsecundaria = [data1secundari[\"velocity_k\"].std(ddof=0)]\n",
    "desvstdlocal = [data1local[\"velocity_k\"].std(ddof=0)]\n",
    "desvstdcolectora = [data1Colectoras[\"velocity_k\"].std(ddof=0)]\n",
    "desvstdcero = [data1Cero[\"velocity_k\"].std(ddof=0)]\n",
    "\n",
    "\n",
    "df = pd.DataFrame()\n",
    "df['hora 07:15 - 8:15'] = ['media', 'desv std']\n",
    "df['primaria'] = [mediaprimaria, desvstdprimaria]\n",
    "df['secundari'] = [mediasecundaria, desvstdsecundaria]\n",
    "df['local'] = [medialocal, desvstdlocal]\n",
    "df['Colectoras'] = [mediacolectora, desvstdcolectora]\n",
    "df['Cero emisiones'] = [mediacero, desvstdcero]\n",
    "df"
   ]
  },
  {
   "cell_type": "code",
   "execution_count": 60,
   "metadata": {},
   "outputs": [
    {
     "data": {
      "text/plain": [
       "<AxesSubplot:ylabel='velocity_k'>"
      ]
     },
     "execution_count": 60,
     "metadata": {},
     "output_type": "execute_result"
    },
    {
     "data": {
      "image/png": "[encoded data removed]",
      "text/plain": [
       "<Figure size 432x288 with 1 Axes>"
      ]
     },
     "metadata": {},
     "output_type": "display_data"
    }
   ],
   "source": [
    "#Se realiza el boxplot de las velocidades en carro RED2\n",
    "sns.boxplot(y=data1primaria[\"velocity_k\"])"
   ]
  },
  {
   "cell_type": "code",
   "execution_count": 61,
   "metadata": {},
   "outputs": [
    {
     "data": {
      "text/plain": [
       "<AxesSubplot:ylabel='velocity_k'>"
      ]
     },
     "execution_count": 61,
     "metadata": {},
     "output_type": "execute_result"
    },
    {
     "data": {
      "image/png": "[encoded data removed]",
      "text/plain": [
       "<Figure size 432x288 with 1 Axes>"
      ]
     },
     "metadata": {},
     "output_type": "display_data"
    }
   ],
   "source": [
    "data1primaria1 = data1primaria[(data1primaria.velocity_k <= 82)]\n",
    "sns.boxplot(y=data1primaria1[\"velocity_k\"])"
   ]
  },
  {
   "cell_type": "code",
   "execution_count": 62,
   "metadata": {},
   "outputs": [
    {
     "data": {
      "text/plain": [
       "<AxesSubplot:ylabel='velocity_k'>"
      ]
     },
     "execution_count": 62,
     "metadata": {},
     "output_type": "execute_result"
    },
    {
     "data": {
      "image/png": "[encoded data removed]",
      "text/plain": [
       "<Figure size 432x288 with 1 Axes>"
      ]
     },
     "metadata": {},
     "output_type": "display_data"
    }
   ],
   "source": [
    "#Se realiza el boxplot de las velocidades en carro RED2\n",
    "sns.boxplot(y=data1secundari[\"velocity_k\"])"
   ]
  },
  {
   "cell_type": "code",
   "execution_count": 63,
   "metadata": {},
   "outputs": [
    {
     "data": {
      "text/plain": [
       "<AxesSubplot:ylabel='velocity_k'>"
      ]
     },
     "execution_count": 63,
     "metadata": {},
     "output_type": "execute_result"
    },
    {
     "data": {
      "image/png": "[encoded data removed]",
      "text/plain": [
       "<Figure size 432x288 with 1 Axes>"
      ]
     },
     "metadata": {},
     "output_type": "display_data"
    }
   ],
   "source": [
    "data1secundari1 = data1secundari[(data1secundari.velocity_k <= 60)]\n",
    "sns.boxplot(y=data1secundari1[\"velocity_k\"])"
   ]
  },
  {
   "cell_type": "code",
   "execution_count": 64,
   "metadata": {},
   "outputs": [
    {
     "data": {
      "text/plain": [
       "<AxesSubplot:ylabel='velocity_k'>"
      ]
     },
     "execution_count": 64,
     "metadata": {},
     "output_type": "execute_result"
    },
    {
     "data": {
      "image/png": "[encoded data removed]",
      "text/plain": [
       "<Figure size 432x288 with 1 Axes>"
      ]
     },
     "metadata": {},
     "output_type": "display_data"
    }
   ],
   "source": [
    "#Se realiza el boxplot de las velocidades en carro RED2\n",
    "sns.boxplot(y=data1local[\"velocity_k\"])"
   ]
  },
  {
   "cell_type": "code",
   "execution_count": 65,
   "metadata": {},
   "outputs": [
    {
     "data": {
      "text/plain": [
       "<AxesSubplot:ylabel='velocity_k'>"
      ]
     },
     "execution_count": 65,
     "metadata": {},
     "output_type": "execute_result"
    },
    {
     "data": {
      "image/png": "[encoded data removed]",
      "text/plain": [
       "<Figure size 432x288 with 1 Axes>"
      ]
     },
     "metadata": {},
     "output_type": "display_data"
    }
   ],
   "source": [
    "data1local1 = data1local[(data1local.velocity_k <= 60)]\n",
    "sns.boxplot(y=data1local1[\"velocity_k\"])"
   ]
  },
  {
   "cell_type": "code",
   "execution_count": 66,
   "metadata": {},
   "outputs": [
    {
     "data": {
      "text/plain": [
       "<AxesSubplot:ylabel='velocity_k'>"
      ]
     },
     "execution_count": 66,
     "metadata": {},
     "output_type": "execute_result"
    },
    {
     "data": {
      "image/png": "[encoded data removed]",
      "text/plain": [
       "<Figure size 432x288 with 1 Axes>"
      ]
     },
     "metadata": {},
     "output_type": "display_data"
    }
   ],
   "source": [
    "#Se realiza el boxplot de las velocidades en carro RED2\n",
    "sns.boxplot(y=data1Colectoras[\"velocity_k\"])"
   ]
  },
  {
   "cell_type": "code",
   "execution_count": 67,
   "metadata": {},
   "outputs": [
    {
     "data": {
      "text/plain": [
       "<AxesSubplot:ylabel='velocity_k'>"
      ]
     },
     "execution_count": 67,
     "metadata": {},
     "output_type": "execute_result"
    },
    {
     "data": {
      "image/png": "[encoded data removed]",
      "text/plain": [
       "<Figure size 432x288 with 1 Axes>"
      ]
     },
     "metadata": {},
     "output_type": "display_data"
    }
   ],
   "source": [
    "data1Colectoras1 = data1Colectoras[(data1Colectoras.velocity_k <= 65)]\n",
    "sns.boxplot(y=data1Colectoras1[\"velocity_k\"])"
   ]
  },
  {
   "cell_type": "code",
   "execution_count": 68,
   "metadata": {},
   "outputs": [
    {
     "data": {
      "text/plain": [
       "<AxesSubplot:ylabel='velocity_k'>"
      ]
     },
     "execution_count": 68,
     "metadata": {},
     "output_type": "execute_result"
    },
    {
     "data": {
      "image/png": "[encoded data removed]",
      "text/plain": [
       "<Figure size 432x288 with 1 Axes>"
      ]
     },
     "metadata": {},
     "output_type": "display_data"
    }
   ],
   "source": [
    "#Se realiza el boxplot de las velocidades en carro RED2\n",
    "sns.boxplot(y=data1Cero[\"velocity_k\"])"
   ]
  },
  {
   "cell_type": "code",
   "execution_count": 69,
   "metadata": {},
   "outputs": [
    {
     "data": {
      "text/plain": [
       "<AxesSubplot:ylabel='velocity_k'>"
      ]
     },
     "execution_count": 69,
     "metadata": {},
     "output_type": "execute_result"
    },
    {
     "data": {
      "image/png": "[encoded data removed]",
      "text/plain": [
       "<Figure size 432x288 with 1 Axes>"
      ]
     },
     "metadata": {},
     "output_type": "display_data"
    }
   ],
   "source": [
    "data1Cero1 = data1Cero[(data1Cero.velocity_k <= 10)]\n",
    "sns.boxplot(y=data1Cero1[\"velocity_k\"])"
   ]
  },
  {
   "cell_type": "code",
   "execution_count": 70,
   "metadata": {},
   "outputs": [
    {
     "data": {
      "text/html": [
       "<div>\n",
       "<style scoped>\n",
       "    .dataframe tbody tr th:only-of-type {\n",
       "        vertical-align: middle;\n",
       "    }\n",
       "\n",
       "    .dataframe tbody tr th {\n",
       "        vertical-align: top;\n",
       "    }\n",
       "\n",
       "    .dataframe thead th {\n",
       "        text-align: right;\n",
       "    }\n",
       "</style>\n",
       "<table border=\"1\" class=\"dataframe\">\n",
       "  <thead>\n",
       "    <tr style=\"text-align: right;\">\n",
       "      <th></th>\n",
       "      <th>Valores medios</th>\n",
       "      <th>primaria</th>\n",
       "      <th>secundari</th>\n",
       "      <th>local</th>\n",
       "      <th>Colectoras</th>\n",
       "      <th>Cero emisiones</th>\n",
       "    </tr>\n",
       "  </thead>\n",
       "  <tbody>\n",
       "    <tr>\n",
       "      <th>0</th>\n",
       "      <td>media</td>\n",
       "      <td>[45.708703392172666]</td>\n",
       "      <td>[25.16274786094586]</td>\n",
       "      <td>[29.499987891755314]</td>\n",
       "      <td>[37.836658085637914]</td>\n",
       "      <td>[nan]</td>\n",
       "    </tr>\n",
       "    <tr>\n",
       "      <th>1</th>\n",
       "      <td>desv std</td>\n",
       "      <td>[20.01524858780904]</td>\n",
       "      <td>[9.152308411239131]</td>\n",
       "      <td>[12.780165030963019]</td>\n",
       "      <td>[14.300178258343754]</td>\n",
       "      <td>[nan]</td>\n",
       "    </tr>\n",
       "    <tr>\n",
       "      <th>2</th>\n",
       "      <td>media1</td>\n",
       "      <td>[45.708703392172666]</td>\n",
       "      <td>[25.16274786094586]</td>\n",
       "      <td>[28.705396376688203]</td>\n",
       "      <td>[37.836658085637914]</td>\n",
       "      <td>[nan]</td>\n",
       "    </tr>\n",
       "    <tr>\n",
       "      <th>3</th>\n",
       "      <td>desv std1</td>\n",
       "      <td>[20.01524858780904]</td>\n",
       "      <td>[9.152308411239131]</td>\n",
       "      <td>[11.50610915159404]</td>\n",
       "      <td>[14.300178258343754]</td>\n",
       "      <td>[nan]</td>\n",
       "    </tr>\n",
       "  </tbody>\n",
       "</table>\n",
       "</div>"
      ],
      "text/plain": [
       "  Valores medios              primaria            secundari  \\\n",
       "0          media  [45.708703392172666]  [25.16274786094586]   \n",
       "1       desv std   [20.01524858780904]  [9.152308411239131]   \n",
       "2         media1  [45.708703392172666]  [25.16274786094586]   \n",
       "3      desv std1   [20.01524858780904]  [9.152308411239131]   \n",
       "\n",
       "                  local            Colectoras Cero emisiones  \n",
       "0  [29.499987891755314]  [37.836658085637914]          [nan]  \n",
       "1  [12.780165030963019]  [14.300178258343754]          [nan]  \n",
       "2  [28.705396376688203]  [37.836658085637914]          [nan]  \n",
       "3   [11.50610915159404]  [14.300178258343754]          [nan]  "
      ]
     },
     "execution_count": 70,
     "metadata": {},
     "output_type": "execute_result"
    }
   ],
   "source": [
    "#Se calculan los valores medios segun la jerarquia\n",
    "mediaprimaria1 = [data1primaria1[\"velocity_k\"].mean()]\n",
    "mediasecundaria1 = [data1secundari1[\"velocity_k\"].mean()]\n",
    "medialocal1 = [data1local1[\"velocity_k\"].mean()]\n",
    "mediacolectora1 = [data1Colectoras1[\"velocity_k\"].mean()]\n",
    "mediacero1 = [data1Cero1[\"velocity_k\"].mean()]\n",
    "desvstdprimaria1 = [data1primaria1[\"velocity_k\"].std(ddof=0)]\n",
    "desvstdsecundaria1 = [data1secundari1[\"velocity_k\"].std(ddof=0)]\n",
    "desvstdlocal1 = [data1local1[\"velocity_k\"].std(ddof=0)]\n",
    "desvstdcolectora1 = [data1Colectoras1[\"velocity_k\"].std(ddof=0)]\n",
    "desvstdcero1 = [data1Cero1[\"velocity_k\"].std(ddof=0)]\n",
    "\n",
    "\n",
    "df = pd.DataFrame()\n",
    "df['Valores medios'] = ['media', 'desv std','media1', 'desv std1']\n",
    "df['primaria'] = [mediaprimaria, desvstdprimaria, mediaprimaria1, desvstdprimaria1]\n",
    "df['secundari'] = [mediasecundaria, desvstdsecundaria, mediasecundaria1, desvstdsecundaria1]\n",
    "df['local'] = [medialocal, desvstdlocal, medialocal1, desvstdlocal1]\n",
    "df['Colectoras'] = [mediacolectora, desvstdcolectora, mediacolectora1, desvstdcolectora1]\n",
    "df['Cero emisiones'] = [mediacero, desvstdcero, mediacero1, desvstdcero1]\n",
    "df"
   ]
  },
  {
   "cell_type": "code",
   "execution_count": 26,
   "metadata": {},
   "outputs": [],
   "source": [
    "dfi.export(df, 'C:/Users/user/Desktop/Tesis/Figuras/Pico2/03Dataframe.png')"
   ]
  },
  {
   "cell_type": "markdown",
   "metadata": {},
   "source": [
    "## Regresión lineal"
   ]
  },
  {
   "cell_type": "code",
   "execution_count": 27,
   "metadata": {},
   "outputs": [
    {
     "data": {
      "image/png": "[encoded data removed]",
      "text/plain": [
       "<Figure size 432x276.48 with 1 Axes>"
      ]
     },
     "metadata": {},
     "output_type": "display_data"
    }
   ],
   "source": [
    "# Gráfico\n",
    "# ==============================================================================\n",
    "fig, ax = plt.subplots(figsize=(6, 3.84))\n",
    "\n",
    "data1primaria.plot(\n",
    "    x    = 'slope',\n",
    "    y    = 'velocity_k',\n",
    "    c    = 'firebrick',\n",
    "    kind = \"scatter\",\n",
    "    ax   = ax\n",
    ")\n",
    "ax.set_title('Distribución de velocidad y pendiente');"
   ]
  },
  {
   "cell_type": "code",
   "execution_count": 28,
   "metadata": {},
   "outputs": [
    {
     "name": "stdout",
     "output_type": "stream",
     "text": [
      "Coeficiente de correlación de Pearson:  -0.19824931882774258\n",
      "P-value:  0.05036433853971204\n"
     ]
    }
   ],
   "source": [
    "# Correlación lineal entre las dos variables\n",
    "# ==============================================================================\n",
    "corr_test = pearsonr(x = data1primaria['slope'], y =  data1primaria['velocity_k'])\n",
    "print(\"Coeficiente de correlación de Pearson: \", corr_test[0])\n",
    "print(\"P-value: \", corr_test[1])"
   ]
  },
  {
   "cell_type": "code",
   "execution_count": 29,
   "metadata": {},
   "outputs": [
    {
     "name": "stdout",
     "output_type": "stream",
     "text": [
      "Coefficients: \n",
      " [-1.21644455]\n",
      "Independent term: \n",
      " 43.21639554706759\n",
      "Mean squared error: 384.87\n",
      "Variance score R2: 0.04\n"
     ]
    }
   ],
   "source": [
    "# Asignamos nuestra variable de entrada X para entrenamiento y las etiquetas Y.\n",
    "dataX = data1primaria[[\"slope\"]]\n",
    "X_train = np.array(dataX)\n",
    "y_train = data1primaria['velocity_k'].values\n",
    "\n",
    "# Creamos el objeto de Regresión Linear\n",
    "regr = linear_model.LinearRegression()\n",
    "\n",
    "# Entrenamos nuestro modelo\n",
    "regr.fit(X_train, y_train)\n",
    "\n",
    "# Hacemos las predicciones que en definitiva una línea (en este caso, al ser 2D)\n",
    "y_pred = regr.predict(X_train)\n",
    "\n",
    "# Veamos los coeficienetes obtenidos, En nuestro caso, serán la Tangente\n",
    "print('Coefficients: \\n', regr.coef_)\n",
    "# Este es el valor donde corta el eje Y (en X=0)\n",
    "print('Independent term: \\n', regr.intercept_)\n",
    "# Error Cuadrado Medio\n",
    "print(\"Mean squared error: %.2f\" % mean_squared_error(y_train, y_pred))\n",
    "# Puntaje de Varianza. El mejor puntaje es un 1.0\n",
    "print('Variance score R2: %.2f' % r2_score(y_train, y_pred))\n"
   ]
  },
  {
   "cell_type": "code",
   "execution_count": 30,
   "metadata": {},
   "outputs": [
    {
     "data": {
      "image/png": "[encoded data removed]",
      "text/plain": [
       "<Figure size 432x288 with 1 Axes>"
      ]
     },
     "metadata": {},
     "output_type": "display_data"
    }
   ],
   "source": [
    "# Se grafican los puntos\n",
    "\n",
    "# Se grafican los puntos\n",
    "colores=['orange','blue']\n",
    "tamanios=[30,60]\n",
    "\n",
    "f1 = data1primaria['slope'].values\n",
    "f2 = data1primaria['velocity_k'].values\n",
    "\n",
    "\n",
    "plt.scatter(f1, f2, c='orange', s=tamanios[0])\n",
    "plt.plot(X_train, y_pred, color='blue', linewidth=2)\n",
    "plt.xlabel(\"Pendiente\")\n",
    "plt.ylabel(\"Velocidad(km/h)\")\n",
    "plt.title(\"Regresión lineal velocidad de bicicleta segun pendiente\", fontsize=12)\n",
    "plt.show()"
   ]
  },
  {
   "cell_type": "code",
   "execution_count": 31,
   "metadata": {},
   "outputs": [
    {
     "data": {
      "image/png": "[encoded data removed]",
      "text/plain": [
       "<Figure size 432x276.48 with 1 Axes>"
      ]
     },
     "metadata": {},
     "output_type": "display_data"
    }
   ],
   "source": [
    "# Gráfico\n",
    "# ==============================================================================\n",
    "fig, ax = plt.subplots(figsize=(6, 3.84))\n",
    "\n",
    "data1secundari.plot(\n",
    "    x    = 'slope',\n",
    "    y    = 'velocity_k',\n",
    "    c    = 'firebrick',\n",
    "    kind = \"scatter\",\n",
    "    ax   = ax\n",
    ")\n",
    "ax.set_title('Distribución de velocidad y pendiente');"
   ]
  },
  {
   "cell_type": "code",
   "execution_count": 32,
   "metadata": {},
   "outputs": [
    {
     "name": "stdout",
     "output_type": "stream",
     "text": [
      "Coeficiente de correlación de Pearson:  0.015093994501384246\n",
      "P-value:  0.9253752206120813\n"
     ]
    }
   ],
   "source": [
    "# Correlación lineal entre las dos variables\n",
    "# ==============================================================================\n",
    "corr_test = pearsonr(x = data1secundari['slope'], y =  data1secundari['velocity_k'])\n",
    "print(\"Coeficiente de correlación de Pearson: \", corr_test[0])\n",
    "print(\"P-value: \", corr_test[1])"
   ]
  },
  {
   "cell_type": "code",
   "execution_count": 33,
   "metadata": {},
   "outputs": [
    {
     "name": "stdout",
     "output_type": "stream",
     "text": [
      "Coefficients: \n",
      " [0.03302737]\n",
      "Independent term: \n",
      " 25.16750295483121\n",
      "Mean squared error: 83.75\n",
      "Variance score R2: 0.00\n"
     ]
    }
   ],
   "source": [
    "# Asignamos nuestra variable de entrada X para entrenamiento y las etiquetas Y.\n",
    "dataX = data1secundari[[\"slope\"]]\n",
    "X_train = np.array(dataX)\n",
    "y_train = data1secundari['velocity_k'].values\n",
    "\n",
    "# Creamos el objeto de Regresión Linear\n",
    "regr = linear_model.LinearRegression()\n",
    "\n",
    "# Entrenamos nuestro modelo\n",
    "regr.fit(X_train, y_train)\n",
    "\n",
    "# Hacemos las predicciones que en definitiva una línea (en este caso, al ser 2D)\n",
    "y_pred = regr.predict(X_train)\n",
    "\n",
    "# Veamos los coeficienetes obtenidos, En nuestro caso, serán la Tangente\n",
    "print('Coefficients: \\n', regr.coef_)\n",
    "# Este es el valor donde corta el eje Y (en X=0)\n",
    "print('Independent term: \\n', regr.intercept_)\n",
    "# Error Cuadrado Medio\n",
    "print(\"Mean squared error: %.2f\" % mean_squared_error(y_train, y_pred))\n",
    "# Puntaje de Varianza. El mejor puntaje es un 1.0\n",
    "print('Variance score R2: %.2f' % r2_score(y_train, y_pred))"
   ]
  },
  {
   "cell_type": "code",
   "execution_count": 34,
   "metadata": {},
   "outputs": [
    {
     "data": {
      "image/png": "[encoded data removed]",
      "text/plain": [
       "<Figure size 432x288 with 1 Axes>"
      ]
     },
     "metadata": {},
     "output_type": "display_data"
    }
   ],
   "source": [
    "# Se grafican los puntos\n",
    "\n",
    "# Se grafican los puntos\n",
    "colores=['orange','blue']\n",
    "tamanios=[30,60]\n",
    "\n",
    "f1 = data1secundari['slope'].values\n",
    "f2 = data1secundari['velocity_k'].values\n",
    "\n",
    "\n",
    "plt.scatter(f1, f2, c='orange', s=tamanios[0])\n",
    "plt.plot(X_train, y_pred, color='blue', linewidth=2)\n",
    "plt.xlabel(\"Pendiente\")\n",
    "plt.ylabel(\"Velocidad(km/h)\")\n",
    "plt.title(\"Regresión lineal velocidad de bicicleta segun pendiente\", fontsize=12)\n",
    "plt.show()"
   ]
  },
  {
   "cell_type": "code",
   "execution_count": 35,
   "metadata": {},
   "outputs": [
    {
     "data": {
      "text/plain": [
       "LinearRegression()"
      ]
     },
     "execution_count": 35,
     "metadata": {},
     "output_type": "execute_result"
    }
   ],
   "source": [
    "# División de los datos en train y test\n",
    "# ==============================================================================\n",
    "X = data1primaria[['slope']]\n",
    "y = data1primaria['velocity_k']\n",
    "\n",
    "X_train, X_test, y_train, y_test = train_test_split(\n",
    "                                        X.values.reshape(-1,1),\n",
    "                                        y.values.reshape(-1,1),\n",
    "                                        train_size   = 0.8,\n",
    "                                        random_state = 1234,\n",
    "                                        shuffle      = True\n",
    "                                    )\n",
    "\n",
    "# Creación del modelo\n",
    "# ==============================================================================\n",
    "modelo = LinearRegression()\n",
    "modelo.fit(X = X_train.reshape(-1, 1), y = y_train)"
   ]
  },
  {
   "cell_type": "code",
   "execution_count": 36,
   "metadata": {},
   "outputs": [
    {
     "name": "stdout",
     "output_type": "stream",
     "text": [
      "Intercept: [42.82400679]\n",
      "Coeficiente: [('slope', -1.2012471750605842)]\n",
      "Coeficiente de determinación R^2: 0.038848905609930595\n"
     ]
    }
   ],
   "source": [
    "# Información del modelo\n",
    "# ==============================================================================\n",
    "print(\"Intercept:\", modelo.intercept_)\n",
    "print(\"Coeficiente:\", list(zip(X.columns, modelo.coef_.flatten(), )))\n",
    "print(\"Coeficiente de determinación R^2:\", modelo.score(X, y))"
   ]
  },
  {
   "cell_type": "code",
   "execution_count": 37,
   "metadata": {},
   "outputs": [
    {
     "name": "stdout",
     "output_type": "stream",
     "text": [
      "[[47.35918018]\n",
      " [46.66124917]\n",
      " [44.78790532]]\n",
      "\n",
      "El error (rmse) de test es: 16.479633463622473\n"
     ]
    }
   ],
   "source": [
    "# Error de test del modelo \n",
    "# ==============================================================================\n",
    "predicciones = modelo.predict(X = X_test)\n",
    "print(predicciones[0:3,])\n",
    "\n",
    "rmse = mean_squared_error(\n",
    "        y_true  = y_test,\n",
    "        y_pred  = predicciones,\n",
    "        squared = False\n",
    "       )\n",
    "print(\"\")\n",
    "print(f\"El error (rmse) de test es: {rmse}\")"
   ]
  },
  {
   "cell_type": "markdown",
   "metadata": {},
   "source": [
    "# Asignación de velocidad media a la red\n",
    "\n",
    "A partir de la velocidad media calculada se asignan las velocidades a los arcos faltantes por velocidad"
   ]
  },
  {
   "cell_type": "code",
   "execution_count": 38,
   "metadata": {},
   "outputs": [
    {
     "data": {
      "text/html": [
       "<div>\n",
       "<style scoped>\n",
       "    .dataframe tbody tr th:only-of-type {\n",
       "        vertical-align: middle;\n",
       "    }\n",
       "\n",
       "    .dataframe tbody tr th {\n",
       "        vertical-align: top;\n",
       "    }\n",
       "\n",
       "    .dataframe thead th {\n",
       "        text-align: right;\n",
       "    }\n",
       "</style>\n",
       "<table border=\"1\" class=\"dataframe\">\n",
       "  <thead>\n",
       "    <tr style=\"text-align: right;\">\n",
       "      <th></th>\n",
       "      <th>DIR</th>\n",
       "      <th>NOMENCLATU</th>\n",
       "      <th>CATEGORIA</th>\n",
       "      <th>NOMEN</th>\n",
       "      <th>JER_POT</th>\n",
       "      <th>JER_PMMEP</th>\n",
       "      <th>Long_KM</th>\n",
       "      <th>Shape_Leng</th>\n",
       "      <th>angulo1</th>\n",
       "      <th>angulo2</th>\n",
       "      <th>slope</th>\n",
       "      <th>FID</th>\n",
       "      <th>velocity_k</th>\n",
       "      <th>geometry</th>\n",
       "    </tr>\n",
       "  </thead>\n",
       "  <tbody>\n",
       "    <tr>\n",
       "      <th>0</th>\n",
       "      <td>1</td>\n",
       "      <td>CALLE 20</td>\n",
       "      <td>CALLE-PRIMER-ORDEN</td>\n",
       "      <td>Cl 20</td>\n",
       "      <td>Malla víal local</td>\n",
       "      <td>Malla víal local</td>\n",
       "      <td>0.068802</td>\n",
       "      <td>68.801895</td>\n",
       "      <td>36.123963</td>\n",
       "      <td>36.445994</td>\n",
       "      <td>1.828875</td>\n",
       "      <td>0</td>\n",
       "      <td>0.0</td>\n",
       "      <td>LINESTRING (871466.763 982507.100, 871475.997 ...</td>\n",
       "    </tr>\n",
       "    <tr>\n",
       "      <th>1</th>\n",
       "      <td>1</td>\n",
       "      <td>CALLE 19</td>\n",
       "      <td>CALLE-PRIMER-ORDEN</td>\n",
       "      <td>Cl 19</td>\n",
       "      <td>Malla víal arterial primaria</td>\n",
       "      <td>Malla víal arterial primaria</td>\n",
       "      <td>0.089808</td>\n",
       "      <td>89.808234</td>\n",
       "      <td>199.524533</td>\n",
       "      <td>216.501489</td>\n",
       "      <td>-4.077699</td>\n",
       "      <td>1</td>\n",
       "      <td>0.0</td>\n",
       "      <td>LINESTRING (871505.831 982644.298, 871503.591 ...</td>\n",
       "    </tr>\n",
       "    <tr>\n",
       "      <th>2</th>\n",
       "      <td>1</td>\n",
       "      <td>CARRERA 4</td>\n",
       "      <td>CARRERA-PRIMER-ORDEN</td>\n",
       "      <td>Cr 4</td>\n",
       "      <td>Malla víal arterial secundari</td>\n",
       "      <td>Colectoras</td>\n",
       "      <td>0.102935</td>\n",
       "      <td>102.934913</td>\n",
       "      <td>302.580455</td>\n",
       "      <td>303.041108</td>\n",
       "      <td>4.033832</td>\n",
       "      <td>2</td>\n",
       "      <td>0.0</td>\n",
       "      <td>LINESTRING (871535.268 982798.544, 871524.511 ...</td>\n",
       "    </tr>\n",
       "    <tr>\n",
       "      <th>3</th>\n",
       "      <td>1</td>\n",
       "      <td>CARRERA 4</td>\n",
       "      <td>CARRERA-PRIMER-ORDEN</td>\n",
       "      <td>Cr 4</td>\n",
       "      <td>Malla víal arterial primaria</td>\n",
       "      <td>Malla víal arterial secundari</td>\n",
       "      <td>0.117046</td>\n",
       "      <td>117.046090</td>\n",
       "      <td>114.747128</td>\n",
       "      <td>114.807639</td>\n",
       "      <td>-5.290759</td>\n",
       "      <td>3</td>\n",
       "      <td>0.0</td>\n",
       "      <td>LINESTRING (871431.414 983044.357, 871436.073 ...</td>\n",
       "    </tr>\n",
       "    <tr>\n",
       "      <th>4</th>\n",
       "      <td>1</td>\n",
       "      <td>CARRERA 4</td>\n",
       "      <td>CARRERA-PRIMER-ORDEN</td>\n",
       "      <td>Cr 4</td>\n",
       "      <td>Malla víal arterial primaria</td>\n",
       "      <td>Malla víal arterial primaria</td>\n",
       "      <td>0.114319</td>\n",
       "      <td>114.318731</td>\n",
       "      <td>117.520102</td>\n",
       "      <td>118.003455</td>\n",
       "      <td>-2.102832</td>\n",
       "      <td>4</td>\n",
       "      <td>0.0</td>\n",
       "      <td>LINESTRING (871398.372 983211.089, 871431.759 ...</td>\n",
       "    </tr>\n",
       "    <tr>\n",
       "      <th>...</th>\n",
       "      <td>...</td>\n",
       "      <td>...</td>\n",
       "      <td>...</td>\n",
       "      <td>...</td>\n",
       "      <td>...</td>\n",
       "      <td>...</td>\n",
       "      <td>...</td>\n",
       "      <td>...</td>\n",
       "      <td>...</td>\n",
       "      <td>...</td>\n",
       "      <td>...</td>\n",
       "      <td>...</td>\n",
       "      <td>...</td>\n",
       "      <td>...</td>\n",
       "    </tr>\n",
       "    <tr>\n",
       "      <th>27932</th>\n",
       "      <td>1</td>\n",
       "      <td>CARRERA 27 SUR</td>\n",
       "      <td>CARRERA-PRIMER-ORDEN</td>\n",
       "      <td>Cr 27 sur</td>\n",
       "      <td>Malla víal local</td>\n",
       "      <td>Malla víal local</td>\n",
       "      <td>0.020000</td>\n",
       "      <td>19.999996</td>\n",
       "      <td>312.258774</td>\n",
       "      <td>312.258774</td>\n",
       "      <td>-1.806031</td>\n",
       "      <td>27932</td>\n",
       "      <td>0.0</td>\n",
       "      <td>LINESTRING (869194.863 980597.050, 869180.060 ...</td>\n",
       "    </tr>\n",
       "    <tr>\n",
       "      <th>27933</th>\n",
       "      <td>1</td>\n",
       "      <td>CARRERA 27 SUR</td>\n",
       "      <td>CARRERA-PRIMER-ORDEN</td>\n",
       "      <td>Cr 27 sur</td>\n",
       "      <td>Malla víal local</td>\n",
       "      <td>Malla víal local</td>\n",
       "      <td>0.020000</td>\n",
       "      <td>19.999996</td>\n",
       "      <td>132.258774</td>\n",
       "      <td>132.258774</td>\n",
       "      <td>1.806031</td>\n",
       "      <td>27933</td>\n",
       "      <td>0.0</td>\n",
       "      <td>LINESTRING (869180.060 980610.499, 869194.863 ...</td>\n",
       "    </tr>\n",
       "    <tr>\n",
       "      <th>27934</th>\n",
       "      <td>1</td>\n",
       "      <td>CALLE 94</td>\n",
       "      <td>CALLE-PRIMER-ORDEN</td>\n",
       "      <td>Cl 94</td>\n",
       "      <td>Malla víal local</td>\n",
       "      <td>Malla víal local</td>\n",
       "      <td>0.019720</td>\n",
       "      <td>19.719950</td>\n",
       "      <td>186.866659</td>\n",
       "      <td>186.866659</td>\n",
       "      <td>2.216708</td>\n",
       "      <td>27934</td>\n",
       "      <td>0.0</td>\n",
       "      <td>LINESTRING (878100.150 981265.301, 878097.793 ...</td>\n",
       "    </tr>\n",
       "    <tr>\n",
       "      <th>27935</th>\n",
       "      <td>1</td>\n",
       "      <td>CALLE 94</td>\n",
       "      <td>CALLE-PRIMER-ORDEN</td>\n",
       "      <td>Cl 94</td>\n",
       "      <td>Malla víal local</td>\n",
       "      <td>Malla víal local</td>\n",
       "      <td>0.019720</td>\n",
       "      <td>19.719950</td>\n",
       "      <td>6.866659</td>\n",
       "      <td>6.866659</td>\n",
       "      <td>-2.216708</td>\n",
       "      <td>27935</td>\n",
       "      <td>0.0</td>\n",
       "      <td>LINESTRING (878097.793 981245.722, 878100.150 ...</td>\n",
       "    </tr>\n",
       "    <tr>\n",
       "      <th>27936</th>\n",
       "      <td>1</td>\n",
       "      <td>None</td>\n",
       "      <td>None</td>\n",
       "      <td>None</td>\n",
       "      <td>Malla víal local</td>\n",
       "      <td>Malla víal local</td>\n",
       "      <td>0.151298</td>\n",
       "      <td>151.298250</td>\n",
       "      <td>318.237859</td>\n",
       "      <td>332.560504</td>\n",
       "      <td>3.375973</td>\n",
       "      <td>27936</td>\n",
       "      <td>0.0</td>\n",
       "      <td>LINESTRING (874440.443 981736.912, 874412.292 ...</td>\n",
       "    </tr>\n",
       "  </tbody>\n",
       "</table>\n",
       "<p>27937 rows × 14 columns</p>\n",
       "</div>"
      ],
      "text/plain": [
       "       DIR      NOMENCLATU             CATEGORIA      NOMEN  \\\n",
       "0        1        CALLE 20    CALLE-PRIMER-ORDEN      Cl 20   \n",
       "1        1        CALLE 19    CALLE-PRIMER-ORDEN      Cl 19   \n",
       "2        1       CARRERA 4  CARRERA-PRIMER-ORDEN       Cr 4   \n",
       "3        1       CARRERA 4  CARRERA-PRIMER-ORDEN       Cr 4   \n",
       "4        1       CARRERA 4  CARRERA-PRIMER-ORDEN       Cr 4   \n",
       "...    ...             ...                   ...        ...   \n",
       "27932    1  CARRERA 27 SUR  CARRERA-PRIMER-ORDEN  Cr 27 sur   \n",
       "27933    1  CARRERA 27 SUR  CARRERA-PRIMER-ORDEN  Cr 27 sur   \n",
       "27934    1        CALLE 94    CALLE-PRIMER-ORDEN      Cl 94   \n",
       "27935    1        CALLE 94    CALLE-PRIMER-ORDEN      Cl 94   \n",
       "27936    1            None                  None       None   \n",
       "\n",
       "                             JER_POT                      JER_PMMEP   Long_KM  \\\n",
       "0                   Malla víal local               Malla víal local  0.068802   \n",
       "1       Malla víal arterial primaria   Malla víal arterial primaria  0.089808   \n",
       "2      Malla víal arterial secundari                     Colectoras  0.102935   \n",
       "3       Malla víal arterial primaria  Malla víal arterial secundari  0.117046   \n",
       "4       Malla víal arterial primaria   Malla víal arterial primaria  0.114319   \n",
       "...                              ...                            ...       ...   \n",
       "27932               Malla víal local               Malla víal local  0.020000   \n",
       "27933               Malla víal local               Malla víal local  0.020000   \n",
       "27934               Malla víal local               Malla víal local  0.019720   \n",
       "27935               Malla víal local               Malla víal local  0.019720   \n",
       "27936               Malla víal local               Malla víal local  0.151298   \n",
       "\n",
       "       Shape_Leng     angulo1     angulo2     slope    FID  velocity_k  \\\n",
       "0       68.801895   36.123963   36.445994  1.828875      0         0.0   \n",
       "1       89.808234  199.524533  216.501489 -4.077699      1         0.0   \n",
       "2      102.934913  302.580455  303.041108  4.033832      2         0.0   \n",
       "3      117.046090  114.747128  114.807639 -5.290759      3         0.0   \n",
       "4      114.318731  117.520102  118.003455 -2.102832      4         0.0   \n",
       "...           ...         ...         ...       ...    ...         ...   \n",
       "27932   19.999996  312.258774  312.258774 -1.806031  27932         0.0   \n",
       "27933   19.999996  132.258774  132.258774  1.806031  27933         0.0   \n",
       "27934   19.719950  186.866659  186.866659  2.216708  27934         0.0   \n",
       "27935   19.719950    6.866659    6.866659 -2.216708  27935         0.0   \n",
       "27936  151.298250  318.237859  332.560504  3.375973  27936         0.0   \n",
       "\n",
       "                                                geometry  \n",
       "0      LINESTRING (871466.763 982507.100, 871475.997 ...  \n",
       "1      LINESTRING (871505.831 982644.298, 871503.591 ...  \n",
       "2      LINESTRING (871535.268 982798.544, 871524.511 ...  \n",
       "3      LINESTRING (871431.414 983044.357, 871436.073 ...  \n",
       "4      LINESTRING (871398.372 983211.089, 871431.759 ...  \n",
       "...                                                  ...  \n",
       "27932  LINESTRING (869194.863 980597.050, 869180.060 ...  \n",
       "27933  LINESTRING (869180.060 980610.499, 869194.863 ...  \n",
       "27934  LINESTRING (878100.150 981265.301, 878097.793 ...  \n",
       "27935  LINESTRING (878097.793 981245.722, 878100.150 ...  \n",
       "27936  LINESTRING (874440.443 981736.912, 874412.292 ...  \n",
       "\n",
       "[27937 rows x 14 columns]"
      ]
     },
     "execution_count": 38,
     "metadata": {},
     "output_type": "execute_result"
    }
   ],
   "source": [
    "#Se define una nueva red para no afectar la original y se cambian los valores NaN por valores de 0\n",
    "redfin=red1\n",
    "redfin['velocity_k'] = redfin['velocity_k'].fillna(0)\n",
    "redfin"
   ]
  },
  {
   "cell_type": "code",
   "execution_count": 39,
   "metadata": {},
   "outputs": [],
   "source": [
    "#Se busca celda por celda la jerarquia y que tengan valores de 0 para una vez identificados se asignan las velocidades media calculadas\n",
    "for i in range(0, len(redfin)):\n",
    "    if  ((redfin.loc[i,'JER_PMMEP'] == \"Malla víal arterial primaria\") & (redfin.loc[i,'velocity_k'] == 0)):\n",
    "        redfin.loc[i,'velocity_k'] = mediaprimaria1\n",
    "    elif ((redfin.loc[i,'JER_PMMEP'] == \"Malla víal arterial secundari\") & (redfin.loc[i,'velocity_k'] == 0)):\n",
    "        redfin.loc[i,'velocity_k'] = mediasecundaria1\n",
    "    elif ((redfin.loc[i,'JER_PMMEP'] == \"Malla víal local\") & (redfin.loc[i,'velocity_k'] == 0)):\n",
    "        redfin.loc[i,'velocity_k'] = medialocal1\n",
    "    elif ((redfin.loc[i,'JER_PMMEP'] == \"Colectoras\") & (redfin.loc[i,'velocity_k'] == 0)):\n",
    "        redfin.loc[i,'velocity_k'] = mediacolectora1\n",
    "    elif ((redfin.loc[i,'JER_PMMEP'] == \"Cero emisiones\") & (redfin.loc[i,'velocity_k'] == 0)):\n",
    "        redfin.loc[i,'velocity_k'] = 4.32"
   ]
  },
  {
   "cell_type": "code",
   "execution_count": 40,
   "metadata": {},
   "outputs": [
    {
     "data": {
      "text/html": [
       "<div>\n",
       "<style scoped>\n",
       "    .dataframe tbody tr th:only-of-type {\n",
       "        vertical-align: middle;\n",
       "    }\n",
       "\n",
       "    .dataframe tbody tr th {\n",
       "        vertical-align: top;\n",
       "    }\n",
       "\n",
       "    .dataframe thead th {\n",
       "        text-align: right;\n",
       "    }\n",
       "</style>\n",
       "<table border=\"1\" class=\"dataframe\">\n",
       "  <thead>\n",
       "    <tr style=\"text-align: right;\">\n",
       "      <th></th>\n",
       "      <th>DIR</th>\n",
       "      <th>NOMENCLATU</th>\n",
       "      <th>CATEGORIA</th>\n",
       "      <th>NOMEN</th>\n",
       "      <th>JER_POT</th>\n",
       "      <th>JER_PMMEP</th>\n",
       "      <th>Long_KM</th>\n",
       "      <th>Shape_Leng</th>\n",
       "      <th>angulo1</th>\n",
       "      <th>angulo2</th>\n",
       "      <th>slope</th>\n",
       "      <th>FID</th>\n",
       "      <th>velocity_k</th>\n",
       "      <th>geometry</th>\n",
       "      <th>long_m</th>\n",
       "      <th>TV</th>\n",
       "    </tr>\n",
       "  </thead>\n",
       "  <tbody>\n",
       "    <tr>\n",
       "      <th>0</th>\n",
       "      <td>1</td>\n",
       "      <td>CALLE 20</td>\n",
       "      <td>CALLE-PRIMER-ORDEN</td>\n",
       "      <td>Cl 20</td>\n",
       "      <td>Malla víal local</td>\n",
       "      <td>Malla víal local</td>\n",
       "      <td>0.068802</td>\n",
       "      <td>68.801895</td>\n",
       "      <td>36.123963</td>\n",
       "      <td>36.445994</td>\n",
       "      <td>1.828875</td>\n",
       "      <td>0</td>\n",
       "      <td>28.705396</td>\n",
       "      <td>LINESTRING (871466.763 982507.100, 871475.997 ...</td>\n",
       "      <td>68.801895</td>\n",
       "      <td>0.143810</td>\n",
       "    </tr>\n",
       "    <tr>\n",
       "      <th>1</th>\n",
       "      <td>1</td>\n",
       "      <td>CALLE 19</td>\n",
       "      <td>CALLE-PRIMER-ORDEN</td>\n",
       "      <td>Cl 19</td>\n",
       "      <td>Malla víal arterial primaria</td>\n",
       "      <td>Malla víal arterial primaria</td>\n",
       "      <td>0.089808</td>\n",
       "      <td>89.808234</td>\n",
       "      <td>199.524533</td>\n",
       "      <td>216.501489</td>\n",
       "      <td>-4.077699</td>\n",
       "      <td>1</td>\n",
       "      <td>45.708703</td>\n",
       "      <td>LINESTRING (871505.831 982644.298, 871503.591 ...</td>\n",
       "      <td>89.808234</td>\n",
       "      <td>0.117888</td>\n",
       "    </tr>\n",
       "    <tr>\n",
       "      <th>2</th>\n",
       "      <td>1</td>\n",
       "      <td>CARRERA 4</td>\n",
       "      <td>CARRERA-PRIMER-ORDEN</td>\n",
       "      <td>Cr 4</td>\n",
       "      <td>Malla víal arterial secundari</td>\n",
       "      <td>Colectoras</td>\n",
       "      <td>0.102935</td>\n",
       "      <td>102.934913</td>\n",
       "      <td>302.580455</td>\n",
       "      <td>303.041108</td>\n",
       "      <td>4.033832</td>\n",
       "      <td>2</td>\n",
       "      <td>37.836658</td>\n",
       "      <td>LINESTRING (871535.268 982798.544, 871524.511 ...</td>\n",
       "      <td>102.934913</td>\n",
       "      <td>0.163230</td>\n",
       "    </tr>\n",
       "    <tr>\n",
       "      <th>3</th>\n",
       "      <td>1</td>\n",
       "      <td>CARRERA 4</td>\n",
       "      <td>CARRERA-PRIMER-ORDEN</td>\n",
       "      <td>Cr 4</td>\n",
       "      <td>Malla víal arterial primaria</td>\n",
       "      <td>Malla víal arterial secundari</td>\n",
       "      <td>0.117046</td>\n",
       "      <td>117.046090</td>\n",
       "      <td>114.747128</td>\n",
       "      <td>114.807639</td>\n",
       "      <td>-5.290759</td>\n",
       "      <td>3</td>\n",
       "      <td>25.162748</td>\n",
       "      <td>LINESTRING (871431.414 983044.357, 871436.073 ...</td>\n",
       "      <td>117.046090</td>\n",
       "      <td>0.279094</td>\n",
       "    </tr>\n",
       "    <tr>\n",
       "      <th>4</th>\n",
       "      <td>1</td>\n",
       "      <td>CARRERA 4</td>\n",
       "      <td>CARRERA-PRIMER-ORDEN</td>\n",
       "      <td>Cr 4</td>\n",
       "      <td>Malla víal arterial primaria</td>\n",
       "      <td>Malla víal arterial primaria</td>\n",
       "      <td>0.114319</td>\n",
       "      <td>114.318731</td>\n",
       "      <td>117.520102</td>\n",
       "      <td>118.003455</td>\n",
       "      <td>-2.102832</td>\n",
       "      <td>4</td>\n",
       "      <td>45.708703</td>\n",
       "      <td>LINESTRING (871398.372 983211.089, 871431.759 ...</td>\n",
       "      <td>114.318731</td>\n",
       "      <td>0.150062</td>\n",
       "    </tr>\n",
       "    <tr>\n",
       "      <th>...</th>\n",
       "      <td>...</td>\n",
       "      <td>...</td>\n",
       "      <td>...</td>\n",
       "      <td>...</td>\n",
       "      <td>...</td>\n",
       "      <td>...</td>\n",
       "      <td>...</td>\n",
       "      <td>...</td>\n",
       "      <td>...</td>\n",
       "      <td>...</td>\n",
       "      <td>...</td>\n",
       "      <td>...</td>\n",
       "      <td>...</td>\n",
       "      <td>...</td>\n",
       "      <td>...</td>\n",
       "      <td>...</td>\n",
       "    </tr>\n",
       "    <tr>\n",
       "      <th>27932</th>\n",
       "      <td>1</td>\n",
       "      <td>CARRERA 27 SUR</td>\n",
       "      <td>CARRERA-PRIMER-ORDEN</td>\n",
       "      <td>Cr 27 sur</td>\n",
       "      <td>Malla víal local</td>\n",
       "      <td>Malla víal local</td>\n",
       "      <td>0.020000</td>\n",
       "      <td>19.999996</td>\n",
       "      <td>312.258774</td>\n",
       "      <td>312.258774</td>\n",
       "      <td>-1.806031</td>\n",
       "      <td>27932</td>\n",
       "      <td>28.705396</td>\n",
       "      <td>LINESTRING (869194.863 980597.050, 869180.060 ...</td>\n",
       "      <td>19.999996</td>\n",
       "      <td>0.041804</td>\n",
       "    </tr>\n",
       "    <tr>\n",
       "      <th>27933</th>\n",
       "      <td>1</td>\n",
       "      <td>CARRERA 27 SUR</td>\n",
       "      <td>CARRERA-PRIMER-ORDEN</td>\n",
       "      <td>Cr 27 sur</td>\n",
       "      <td>Malla víal local</td>\n",
       "      <td>Malla víal local</td>\n",
       "      <td>0.020000</td>\n",
       "      <td>19.999996</td>\n",
       "      <td>132.258774</td>\n",
       "      <td>132.258774</td>\n",
       "      <td>1.806031</td>\n",
       "      <td>27933</td>\n",
       "      <td>28.705396</td>\n",
       "      <td>LINESTRING (869180.060 980610.499, 869194.863 ...</td>\n",
       "      <td>19.999996</td>\n",
       "      <td>0.041804</td>\n",
       "    </tr>\n",
       "    <tr>\n",
       "      <th>27934</th>\n",
       "      <td>1</td>\n",
       "      <td>CALLE 94</td>\n",
       "      <td>CALLE-PRIMER-ORDEN</td>\n",
       "      <td>Cl 94</td>\n",
       "      <td>Malla víal local</td>\n",
       "      <td>Malla víal local</td>\n",
       "      <td>0.019720</td>\n",
       "      <td>19.719950</td>\n",
       "      <td>186.866659</td>\n",
       "      <td>186.866659</td>\n",
       "      <td>2.216708</td>\n",
       "      <td>27934</td>\n",
       "      <td>28.705396</td>\n",
       "      <td>LINESTRING (878100.150 981265.301, 878097.793 ...</td>\n",
       "      <td>19.719950</td>\n",
       "      <td>0.041219</td>\n",
       "    </tr>\n",
       "    <tr>\n",
       "      <th>27935</th>\n",
       "      <td>1</td>\n",
       "      <td>CALLE 94</td>\n",
       "      <td>CALLE-PRIMER-ORDEN</td>\n",
       "      <td>Cl 94</td>\n",
       "      <td>Malla víal local</td>\n",
       "      <td>Malla víal local</td>\n",
       "      <td>0.019720</td>\n",
       "      <td>19.719950</td>\n",
       "      <td>6.866659</td>\n",
       "      <td>6.866659</td>\n",
       "      <td>-2.216708</td>\n",
       "      <td>27935</td>\n",
       "      <td>28.705396</td>\n",
       "      <td>LINESTRING (878097.793 981245.722, 878100.150 ...</td>\n",
       "      <td>19.719950</td>\n",
       "      <td>0.041219</td>\n",
       "    </tr>\n",
       "    <tr>\n",
       "      <th>27936</th>\n",
       "      <td>1</td>\n",
       "      <td>None</td>\n",
       "      <td>None</td>\n",
       "      <td>None</td>\n",
       "      <td>Malla víal local</td>\n",
       "      <td>Malla víal local</td>\n",
       "      <td>0.151298</td>\n",
       "      <td>151.298250</td>\n",
       "      <td>318.237859</td>\n",
       "      <td>332.560504</td>\n",
       "      <td>3.375973</td>\n",
       "      <td>27936</td>\n",
       "      <td>28.705396</td>\n",
       "      <td>LINESTRING (874440.443 981736.912, 874412.292 ...</td>\n",
       "      <td>151.298250</td>\n",
       "      <td>0.316243</td>\n",
       "    </tr>\n",
       "  </tbody>\n",
       "</table>\n",
       "<p>27937 rows × 16 columns</p>\n",
       "</div>"
      ],
      "text/plain": [
       "       DIR      NOMENCLATU             CATEGORIA      NOMEN  \\\n",
       "0        1        CALLE 20    CALLE-PRIMER-ORDEN      Cl 20   \n",
       "1        1        CALLE 19    CALLE-PRIMER-ORDEN      Cl 19   \n",
       "2        1       CARRERA 4  CARRERA-PRIMER-ORDEN       Cr 4   \n",
       "3        1       CARRERA 4  CARRERA-PRIMER-ORDEN       Cr 4   \n",
       "4        1       CARRERA 4  CARRERA-PRIMER-ORDEN       Cr 4   \n",
       "...    ...             ...                   ...        ...   \n",
       "27932    1  CARRERA 27 SUR  CARRERA-PRIMER-ORDEN  Cr 27 sur   \n",
       "27933    1  CARRERA 27 SUR  CARRERA-PRIMER-ORDEN  Cr 27 sur   \n",
       "27934    1        CALLE 94    CALLE-PRIMER-ORDEN      Cl 94   \n",
       "27935    1        CALLE 94    CALLE-PRIMER-ORDEN      Cl 94   \n",
       "27936    1            None                  None       None   \n",
       "\n",
       "                             JER_POT                      JER_PMMEP   Long_KM  \\\n",
       "0                   Malla víal local               Malla víal local  0.068802   \n",
       "1       Malla víal arterial primaria   Malla víal arterial primaria  0.089808   \n",
       "2      Malla víal arterial secundari                     Colectoras  0.102935   \n",
       "3       Malla víal arterial primaria  Malla víal arterial secundari  0.117046   \n",
       "4       Malla víal arterial primaria   Malla víal arterial primaria  0.114319   \n",
       "...                              ...                            ...       ...   \n",
       "27932               Malla víal local               Malla víal local  0.020000   \n",
       "27933               Malla víal local               Malla víal local  0.020000   \n",
       "27934               Malla víal local               Malla víal local  0.019720   \n",
       "27935               Malla víal local               Malla víal local  0.019720   \n",
       "27936               Malla víal local               Malla víal local  0.151298   \n",
       "\n",
       "       Shape_Leng     angulo1     angulo2     slope    FID  velocity_k  \\\n",
       "0       68.801895   36.123963   36.445994  1.828875      0   28.705396   \n",
       "1       89.808234  199.524533  216.501489 -4.077699      1   45.708703   \n",
       "2      102.934913  302.580455  303.041108  4.033832      2   37.836658   \n",
       "3      117.046090  114.747128  114.807639 -5.290759      3   25.162748   \n",
       "4      114.318731  117.520102  118.003455 -2.102832      4   45.708703   \n",
       "...           ...         ...         ...       ...    ...         ...   \n",
       "27932   19.999996  312.258774  312.258774 -1.806031  27932   28.705396   \n",
       "27933   19.999996  132.258774  132.258774  1.806031  27933   28.705396   \n",
       "27934   19.719950  186.866659  186.866659  2.216708  27934   28.705396   \n",
       "27935   19.719950    6.866659    6.866659 -2.216708  27935   28.705396   \n",
       "27936  151.298250  318.237859  332.560504  3.375973  27936   28.705396   \n",
       "\n",
       "                                                geometry      long_m        TV  \n",
       "0      LINESTRING (871466.763 982507.100, 871475.997 ...   68.801895  0.143810  \n",
       "1      LINESTRING (871505.831 982644.298, 871503.591 ...   89.808234  0.117888  \n",
       "2      LINESTRING (871535.268 982798.544, 871524.511 ...  102.934913  0.163230  \n",
       "3      LINESTRING (871431.414 983044.357, 871436.073 ...  117.046090  0.279094  \n",
       "4      LINESTRING (871398.372 983211.089, 871431.759 ...  114.318731  0.150062  \n",
       "...                                                  ...         ...       ...  \n",
       "27932  LINESTRING (869194.863 980597.050, 869180.060 ...   19.999996  0.041804  \n",
       "27933  LINESTRING (869180.060 980610.499, 869194.863 ...   19.999996  0.041804  \n",
       "27934  LINESTRING (878100.150 981265.301, 878097.793 ...   19.719950  0.041219  \n",
       "27935  LINESTRING (878097.793 981245.722, 878100.150 ...   19.719950  0.041219  \n",
       "27936  LINESTRING (874440.443 981736.912, 874412.292 ...  151.298250  0.316243  \n",
       "\n",
       "[27937 rows x 16 columns]"
      ]
     },
     "execution_count": 40,
     "metadata": {},
     "output_type": "execute_result"
    }
   ],
   "source": [
    "redfin[\"long_m\"] = redfin['geometry'].length\n",
    "redfin[\"TV\"] = ((redfin['long_m']/redfin['velocity_k'])*(60/1000))\n",
    "redfin"
   ]
  },
  {
   "cell_type": "code",
   "execution_count": 41,
   "metadata": {},
   "outputs": [],
   "source": [
    "redfin.to_file(\"G:/Mi unidad/Docencia/Maestria UNAL/Trabajo de grado/Tesis 2.0/Tesis/Red_Inf_Vial/Red_Vel_Franjas/Moto/valle2.shp\")"
   ]
  },
  {
   "cell_type": "code",
   "execution_count": 42,
   "metadata": {},
   "outputs": [],
   "source": [
    "gdf = redfin.to_crs({\"init\":\"EPSG:4326\"})\n",
    "gdf.to_file(\"G:/Mi unidad/Docencia/Maestria UNAL/Trabajo de grado/Tesis 2.0/Tesis/Red_Inf_Vial/Red_Vel_Franjas/Moto/WGS84/valle2.shp\")"
   ]
  },
  {
   "cell_type": "code",
   "execution_count": null,
   "metadata": {},
   "outputs": [],
   "source": []
  }
 ],
 "metadata": {
  "kernelspec": {
   "display_name": "Python 3",
   "language": "python",
   "name": "python3"
  },
  "language_info": {
   "codemirror_mode": {
    "name": "ipython",
    "version": 3
   },
   "file_extension": ".py",
   "mimetype": "text/x-python",
   "name": "python",
   "nbconvert_exporter": "python",
   "pygments_lexer": "ipython3",
   "version": "3.8.5"
  }
 },
 "nbformat": 4,
 "nbformat_minor": 4
}
